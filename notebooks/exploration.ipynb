{
 "cells": [
  {
   "cell_type": "markdown",
   "id": "182c06ef-fcda-4850-9dc0-4c15af093554",
   "metadata": {},
   "source": [
    "# Exploration"
   ]
  },
  {
   "cell_type": "markdown",
   "id": "a09ed3dc-4b3d-442a-aa25-f68619e7b1a2",
   "metadata": {},
   "source": [
    "## 1. Get The Data"
   ]
  },
  {
   "cell_type": "code",
   "execution_count": null,
   "id": "0061face-8fbd-4a62-b477-fa7472520bf2",
   "metadata": {},
   "outputs": [],
   "source": [
    "import urllib.request, os"
   ]
  },
  {
   "cell_type": "code",
   "execution_count": null,
   "id": "bd30bbd4-b7d4-48b6-9a7c-ad2df8a74286",
   "metadata": {},
   "outputs": [],
   "source": [
    "os.chdir('..')"
   ]
  },
  {
   "cell_type": "code",
   "execution_count": null,
   "id": "1e017317-2ef4-4756-95aa-9f5c1f8bbe50",
   "metadata": {},
   "outputs": [],
   "source": [
    "url = 'https://archive.ics.uci.edu/ml/machine-learning-databases/00560/SeoulBikeData.csv'\n",
    "path = os.path.join('data', 'raw')\n",
    "filename = 'SeoulBikeData.csv'"
   ]
  },
  {
   "cell_type": "code",
   "execution_count": null,
   "id": "8122ea37-6f1e-440d-b868-559e486a2875",
   "metadata": {},
   "outputs": [
    {
     "data": {
      "text/plain": [
       "('../data/raw/SeoulBikeData.csv', <http.client.HTTPMessage at 0x7f3cac3540a0>)"
      ]
     },
     "execution_count": 3,
     "metadata": {},
     "output_type": "execute_result"
    }
   ],
   "source": [
    "urllib.request.urlretrieve(url, os.path.join(path, filename))"
   ]
  },
  {
   "cell_type": "code",
   "execution_count": 58,
   "id": "406e6f49-e524-457c-87f0-123e7ec0aba7",
   "metadata": {},
   "outputs": [
    {
     "name": "stdout",
     "output_type": "stream",
     "text": [
      "Overwriting src/get_data.py\n"
     ]
    }
   ],
   "source": [
    "%%writefile src/get_data.py\n",
    "\n",
    "import urllib.request, os\n",
    "\n",
    "url = 'https://archive.ics.uci.edu/ml/machine-learning-databases/00560/SeoulBikeData.csv'\n",
    "path = os.path.join('data', 'raw')\n",
    "filename = 'SeoulBikeData.csv'\n",
    "\n",
    "if not os.path.exists(path):\n",
    "        os.makedirs(path)\n",
    "        \n",
    "urllib.request.urlretrieve(url, os.path.join(path, filename))"
   ]
  },
  {
   "cell_type": "code",
   "execution_count": 5,
   "id": "80870868-99b1-48f6-b1b7-5e5da79878f3",
   "metadata": {},
   "outputs": [],
   "source": [
    "os.chdir('..')"
   ]
  },
  {
   "cell_type": "code",
   "execution_count": 6,
   "id": "2e0079a9-f441-4bf7-aedc-5d34a1e39213",
   "metadata": {},
   "outputs": [
    {
     "name": "stdout",
     "output_type": "stream",
     "text": [
      "/home/ramonperez/Tresors/datascience/projects/bikes_ml\n"
     ]
    }
   ],
   "source": [
    "!pwd"
   ]
  },
  {
   "cell_type": "code",
   "execution_count": 8,
   "id": "f5bed750-ec0d-4c4e-84aa-4049f0b66a4b",
   "metadata": {},
   "outputs": [
    {
     "name": "stdout",
     "output_type": "stream",
     "text": [
      "Branch 'master' set up to track remote branch 'master' from 'origin'.\n"
     ]
    },
    {
     "name": "stderr",
     "output_type": "stream",
     "text": [
      "To https://github.com/ramonpzg/bikes_ml.git\n",
      " * [new branch]      master -> master\n"
     ]
    }
   ],
   "source": [
    "%%bash\n",
    "\n",
    "git add data/raw/.gitignore data/raw/SeoulBikeData.csv.dvc\n",
    "git commit -m \"Start Tracking Data\"\n",
    "git remote add origin https://github.com/ramonpzg/bikes_ml.git\n",
    "git push -u origin master"
   ]
  },
  {
   "cell_type": "code",
   "execution_count": null,
   "id": "ca17d415-7deb-4af4-a071-09fb199d5f40",
   "metadata": {},
   "outputs": [],
   "source": []
  },
  {
   "cell_type": "code",
   "execution_count": null,
   "id": "9d98d686-de12-4e2d-ac77-9f9743d657cf",
   "metadata": {},
   "outputs": [],
   "source": []
  },
  {
   "cell_type": "markdown",
   "id": "aeb0ce85-6f20-40a9-8b70-f4091c1ecf12",
   "metadata": {},
   "source": [
    "## Preparation"
   ]
  },
  {
   "cell_type": "code",
   "execution_count": 16,
   "id": "cededf67-ae55-4c28-8ac5-afa384f6243e",
   "metadata": {},
   "outputs": [],
   "source": [
    "import pandas as pd\n",
    "from sklearn.preprocessing import OneHotEncoder"
   ]
  },
  {
   "cell_type": "code",
   "execution_count": 12,
   "id": "6279278b-b619-4a6c-8af5-2c1df8db9841",
   "metadata": {},
   "outputs": [],
   "source": [
    "data = pd.read_csv('data/raw/SeoulBikeData.csv', encoding='iso-8859-1')"
   ]
  },
  {
   "cell_type": "code",
   "execution_count": 13,
   "id": "7f2dac01-d700-42f6-bba4-9d15d701ca62",
   "metadata": {},
   "outputs": [
    {
     "data": {
      "text/html": [
       "<div>\n",
       "<style scoped>\n",
       "    .dataframe tbody tr th:only-of-type {\n",
       "        vertical-align: middle;\n",
       "    }\n",
       "\n",
       "    .dataframe tbody tr th {\n",
       "        vertical-align: top;\n",
       "    }\n",
       "\n",
       "    .dataframe thead th {\n",
       "        text-align: right;\n",
       "    }\n",
       "</style>\n",
       "<table border=\"1\" class=\"dataframe\">\n",
       "  <thead>\n",
       "    <tr style=\"text-align: right;\">\n",
       "      <th></th>\n",
       "      <th>0</th>\n",
       "      <th>1</th>\n",
       "      <th>2</th>\n",
       "      <th>3</th>\n",
       "      <th>4</th>\n",
       "    </tr>\n",
       "  </thead>\n",
       "  <tbody>\n",
       "    <tr>\n",
       "      <th>Date</th>\n",
       "      <td>01/12/2017</td>\n",
       "      <td>01/12/2017</td>\n",
       "      <td>01/12/2017</td>\n",
       "      <td>01/12/2017</td>\n",
       "      <td>01/12/2017</td>\n",
       "    </tr>\n",
       "    <tr>\n",
       "      <th>Rented Bike Count</th>\n",
       "      <td>254</td>\n",
       "      <td>204</td>\n",
       "      <td>173</td>\n",
       "      <td>107</td>\n",
       "      <td>78</td>\n",
       "    </tr>\n",
       "    <tr>\n",
       "      <th>Hour</th>\n",
       "      <td>0</td>\n",
       "      <td>1</td>\n",
       "      <td>2</td>\n",
       "      <td>3</td>\n",
       "      <td>4</td>\n",
       "    </tr>\n",
       "    <tr>\n",
       "      <th>Temperature(°C)</th>\n",
       "      <td>-5.2</td>\n",
       "      <td>-5.5</td>\n",
       "      <td>-6.0</td>\n",
       "      <td>-6.2</td>\n",
       "      <td>-6.0</td>\n",
       "    </tr>\n",
       "    <tr>\n",
       "      <th>Humidity(%)</th>\n",
       "      <td>37</td>\n",
       "      <td>38</td>\n",
       "      <td>39</td>\n",
       "      <td>40</td>\n",
       "      <td>36</td>\n",
       "    </tr>\n",
       "    <tr>\n",
       "      <th>Wind speed (m/s)</th>\n",
       "      <td>2.2</td>\n",
       "      <td>0.8</td>\n",
       "      <td>1.0</td>\n",
       "      <td>0.9</td>\n",
       "      <td>2.3</td>\n",
       "    </tr>\n",
       "    <tr>\n",
       "      <th>Visibility (10m)</th>\n",
       "      <td>2000</td>\n",
       "      <td>2000</td>\n",
       "      <td>2000</td>\n",
       "      <td>2000</td>\n",
       "      <td>2000</td>\n",
       "    </tr>\n",
       "    <tr>\n",
       "      <th>Dew point temperature(°C)</th>\n",
       "      <td>-17.6</td>\n",
       "      <td>-17.6</td>\n",
       "      <td>-17.7</td>\n",
       "      <td>-17.6</td>\n",
       "      <td>-18.6</td>\n",
       "    </tr>\n",
       "    <tr>\n",
       "      <th>Solar Radiation (MJ/m2)</th>\n",
       "      <td>0.0</td>\n",
       "      <td>0.0</td>\n",
       "      <td>0.0</td>\n",
       "      <td>0.0</td>\n",
       "      <td>0.0</td>\n",
       "    </tr>\n",
       "    <tr>\n",
       "      <th>Rainfall(mm)</th>\n",
       "      <td>0.0</td>\n",
       "      <td>0.0</td>\n",
       "      <td>0.0</td>\n",
       "      <td>0.0</td>\n",
       "      <td>0.0</td>\n",
       "    </tr>\n",
       "    <tr>\n",
       "      <th>Snowfall (cm)</th>\n",
       "      <td>0.0</td>\n",
       "      <td>0.0</td>\n",
       "      <td>0.0</td>\n",
       "      <td>0.0</td>\n",
       "      <td>0.0</td>\n",
       "    </tr>\n",
       "    <tr>\n",
       "      <th>Seasons</th>\n",
       "      <td>Winter</td>\n",
       "      <td>Winter</td>\n",
       "      <td>Winter</td>\n",
       "      <td>Winter</td>\n",
       "      <td>Winter</td>\n",
       "    </tr>\n",
       "    <tr>\n",
       "      <th>Holiday</th>\n",
       "      <td>No Holiday</td>\n",
       "      <td>No Holiday</td>\n",
       "      <td>No Holiday</td>\n",
       "      <td>No Holiday</td>\n",
       "      <td>No Holiday</td>\n",
       "    </tr>\n",
       "    <tr>\n",
       "      <th>Functioning Day</th>\n",
       "      <td>Yes</td>\n",
       "      <td>Yes</td>\n",
       "      <td>Yes</td>\n",
       "      <td>Yes</td>\n",
       "      <td>Yes</td>\n",
       "    </tr>\n",
       "  </tbody>\n",
       "</table>\n",
       "</div>"
      ],
      "text/plain": [
       "                                    0           1           2           3  \\\n",
       "Date                       01/12/2017  01/12/2017  01/12/2017  01/12/2017   \n",
       "Rented Bike Count                 254         204         173         107   \n",
       "Hour                                0           1           2           3   \n",
       "Temperature(°C)                  -5.2        -5.5        -6.0        -6.2   \n",
       "Humidity(%)                        37          38          39          40   \n",
       "Wind speed (m/s)                  2.2         0.8         1.0         0.9   \n",
       "Visibility (10m)                 2000        2000        2000        2000   \n",
       "Dew point temperature(°C)       -17.6       -17.6       -17.7       -17.6   \n",
       "Solar Radiation (MJ/m2)           0.0         0.0         0.0         0.0   \n",
       "Rainfall(mm)                      0.0         0.0         0.0         0.0   \n",
       "Snowfall (cm)                     0.0         0.0         0.0         0.0   \n",
       "Seasons                        Winter      Winter      Winter      Winter   \n",
       "Holiday                    No Holiday  No Holiday  No Holiday  No Holiday   \n",
       "Functioning Day                   Yes         Yes         Yes         Yes   \n",
       "\n",
       "                                    4  \n",
       "Date                       01/12/2017  \n",
       "Rented Bike Count                  78  \n",
       "Hour                                4  \n",
       "Temperature(°C)                  -6.0  \n",
       "Humidity(%)                        36  \n",
       "Wind speed (m/s)                  2.3  \n",
       "Visibility (10m)                 2000  \n",
       "Dew point temperature(°C)       -18.6  \n",
       "Solar Radiation (MJ/m2)           0.0  \n",
       "Rainfall(mm)                      0.0  \n",
       "Snowfall (cm)                     0.0  \n",
       "Seasons                        Winter  \n",
       "Holiday                    No Holiday  \n",
       "Functioning Day                   Yes  "
      ]
     },
     "execution_count": 13,
     "metadata": {},
     "output_type": "execute_result"
    }
   ],
   "source": [
    "data.head().T"
   ]
  },
  {
   "cell_type": "code",
   "execution_count": 14,
   "id": "ab585257-f164-4dc4-89a5-5cf94a6fb1d1",
   "metadata": {},
   "outputs": [],
   "source": [
    "data['Date'] = pd.to_datetime(data['Date'])"
   ]
  },
  {
   "cell_type": "code",
   "execution_count": 15,
   "id": "73cabf0d-6577-4bbf-a96b-5d77eed83405",
   "metadata": {},
   "outputs": [],
   "source": [
    "data[\"Year\"] = data['Date'].dt.year\n",
    "data[\"Month\"] = data['Date'].dt.month\n",
    "data[\"Week\"] = data['Date'].dt.isocalendar().week\n",
    "data[\"Day\"] = data['Date'].dt.day\n",
    "data[\"Dayofweek\"] = data['Date'].dt.dayofweek\n",
    "data[\"Dayofyear\"] = data['Date'].dt.dayofyear\n",
    "data[\"Is_month_end\"] = data['Date'].dt.is_month_end\n",
    "data[\"Is_month_start\"] = data['Date'].dt.is_month_start\n",
    "data[\"Is_quarter_end\"] = data['Date'].dt.is_quarter_end\n",
    "data[\"Is_quarter_start\"] = data['Date'].dt.is_quarter_start\n",
    "data[\"Is_year_end\"] = data['Date'].dt.is_year_end\n",
    "data[\"Is_year_start\"] = data['Date'].dt.is_year_start\n",
    "data.drop('Date', axis=1, inplace=True)"
   ]
  },
  {
   "cell_type": "code",
   "execution_count": 19,
   "id": "0cc22057-e9c1-48d1-a09a-50f19c893e2b",
   "metadata": {},
   "outputs": [],
   "source": [
    "data = pd.get_dummies(data=data, columns=['Holiday', 'Seasons', 'Functioning Day'])"
   ]
  },
  {
   "cell_type": "code",
   "execution_count": 20,
   "id": "8aeeaa2e-eebc-41f4-86f5-1b145ae95d0a",
   "metadata": {},
   "outputs": [],
   "source": [
    "data.columns = ['rented_bike_count', 'hour', 'temperature', 'humidity', 'wind_speed', 'visibility', \n",
    "                'dew_point_temperature', 'solar_radiation', 'rainfall', 'snowfall', 'year', \n",
    "                'month', 'week', 'day', 'dayofweek', 'dayofyear', 'is_month_end', 'is_month_start',\n",
    "                'is_quarter_end', 'is_quarter_start', 'is_year_end', 'is_year_start',\n",
    "                'seasons_autumn', 'seasons_winter', 'seasons_summer', 'seasons_spring',\n",
    "                'holiday_yes', 'holiday_no', 'functioning_day_no', 'functioning_day_yes']"
   ]
  },
  {
   "cell_type": "code",
   "execution_count": 24,
   "id": "f2d87c42-afb3-4e68-9e70-83f3185511d6",
   "metadata": {},
   "outputs": [],
   "source": [
    "split = 0.30\n",
    "\n",
    "train_path = os.path.join('data', 'processed', 'train.csv')\n",
    "test_path = os.path.join('data', 'processed', 'test.csv')"
   ]
  },
  {
   "cell_type": "code",
   "execution_count": 25,
   "id": "8abd5fe0-0907-4ae5-92da-44da48a67ae4",
   "metadata": {},
   "outputs": [],
   "source": [
    "n_train = int(len(data) - len(data) * split)\n",
    "\n",
    "df_train = data[:n_train].reset_index(drop=True)\n",
    "df_test = data[n_train:].reset_index(drop=True)\n",
    "\n",
    "df_train.to_csv(train_path, index=False)\n",
    "df_test.to_csv(test_path, index=False)"
   ]
  },
  {
   "cell_type": "code",
   "execution_count": 70,
   "id": "16c3b143-d456-48f4-bb6e-42aeaa3344a9",
   "metadata": {},
   "outputs": [
    {
     "name": "stdout",
     "output_type": "stream",
     "text": [
      "\n",
      "To track the changes with git, run:\n",
      "\n",
      "\tgit add data/processed/.gitignore data/processed/train.csv.dvc data/processed/test.csv.dvc\n",
      "2 files pushed\n"
     ]
    }
   ],
   "source": [
    "%%bash\n",
    "\n",
    "dvc add data/processed/train.csv data/processed/test.csv\n",
    "dvc push"
   ]
  },
  {
   "cell_type": "code",
   "execution_count": 26,
   "id": "65ea19cb-7c7c-4715-8852-659331b7e721",
   "metadata": {},
   "outputs": [
    {
     "name": "stdout",
     "output_type": "stream",
     "text": [
      "Writing prepare.py\n"
     ]
    }
   ],
   "source": [
    "%%writefile src/prepare.py\n",
    "\n",
    "import pandas as pd\n",
    "import os, sys\n",
    "\n",
    "split = 0.30\n",
    "\n",
    "raw_data_path = sys.argv[1]\n",
    "train_path = os.path.join('data', 'processed', 'train.csv')\n",
    "test_path = os.path.join('data', 'processed', 'test.csv')\n",
    "\n",
    "# read the data\n",
    "data = pd.read_csv(raw_data_path, encoding='iso-8859-1')\n",
    "\n",
    "# add date vars\n",
    "data['Date'] = pd.to_datetime(data['Date'])\n",
    "data.sort_values(['Date', 'Hour'], inplace=True)\n",
    "data[\"Year\"] = data['Date'].dt.year\n",
    "data[\"Month\"] = data['Date'].dt.month\n",
    "data[\"Week\"] = data['Date'].dt.isocalendar().week\n",
    "data[\"Day\"] = data['Date'].dt.day\n",
    "data[\"Dayofweek\"] = data['Date'].dt.dayofweek\n",
    "data[\"Dayofyear\"] = data['Date'].dt.dayofyear\n",
    "data[\"Is_month_end\"] = data['Date'].dt.is_month_end\n",
    "data[\"Is_month_start\"] = data['Date'].dt.is_month_start\n",
    "data[\"Is_quarter_end\"] = data['Date'].dt.is_quarter_end\n",
    "data[\"Is_quarter_start\"] = data['Date'].dt.is_quarter_start\n",
    "data[\"Is_year_end\"] = data['Date'].dt.is_year_end\n",
    "data[\"Is_year_start\"] = data['Date'].dt.is_year_start\n",
    "data.drop('Date', axis=1, inplace=True)\n",
    "\n",
    "# add dummies\n",
    "data = pd.get_dummies(data=data, columns=['Holiday', 'Seasons', 'Functioning Day'])\n",
    "\n",
    "# Normalize columns\n",
    "data.columns = ['rented_bike_count', 'hour', 'temperature', 'humidity', 'wind_speed', 'visibility', \n",
    "                'dew_point_temperature', 'solar_radiation', 'rainfall', 'snowfall', 'year', \n",
    "                'month', 'week', 'day', 'dayofweek', 'dayofyear', 'is_month_end', 'is_month_start',\n",
    "                'is_quarter_end', 'is_quarter_start', 'is_year_end', 'is_year_start',\n",
    "                'seasons_autumn', 'seasons_winter', 'seasons_summer', 'seasons_spring',\n",
    "                'holiday_yes', 'holiday_no', 'functioning_day_no', 'functioning_day_yes']\n",
    "\n",
    "n_train = int(len(data) - len(data) * split)\n",
    "\n",
    "data[:n_train].reset_index(drop=True).to_csv(train_path, index=False)\n",
    "data[n_train:].reset_index(drop=True).to_csv(test_path, index=False)"
   ]
  },
  {
   "cell_type": "code",
   "execution_count": 27,
   "id": "c9eec41f-3583-4c7f-b2cc-b7a83683070c",
   "metadata": {},
   "outputs": [
    {
     "name": "stdout",
     "output_type": "stream",
     "text": [
      "Writing .gitignore\n"
     ]
    }
   ],
   "source": [
    "%%writefile .gitignore\n",
    "\n",
    ".ipynb_checkpoints\n",
    "new_user_credentials.csv"
   ]
  },
  {
   "cell_type": "code",
   "execution_count": 71,
   "id": "55f2375d-46d9-46fc-b591-1007f32f5668",
   "metadata": {},
   "outputs": [
    {
     "name": "stdout",
     "output_type": "stream",
     "text": [
      "[master da046c3] Preparation stage completed\n",
      " 8 files changed, 428 insertions(+), 9 deletions(-)\n",
      " create mode 100644 data/processed/.gitignore\n",
      " create mode 100644 data/processed/test.csv.dvc\n",
      " create mode 100644 data/processed/train.csv.dvc\n",
      " create mode 100644 dvc.lock\n",
      " create mode 100644 dvc.yaml\n",
      " create mode 100644 metrics/metrics.json\n"
     ]
    },
    {
     "name": "stderr",
     "output_type": "stream",
     "text": [
      "To https://github.com/ramonpzg/bikes_ml.git\n",
      "   5b5ba3f..da046c3  master -> master\n"
     ]
    }
   ],
   "source": [
    "%%bash\n",
    "\n",
    "git add .\n",
    "git commit -m \"Preparation stage completed\"\n",
    "git push"
   ]
  },
  {
   "cell_type": "code",
   "execution_count": null,
   "id": "b9c6b721-0d64-4d43-b664-a8d7bb87f210",
   "metadata": {},
   "outputs": [],
   "source": []
  },
  {
   "cell_type": "markdown",
   "id": "8f2e46cc-1426-450f-8d4f-7b1491c488f5",
   "metadata": {},
   "source": [
    "## Training"
   ]
  },
  {
   "cell_type": "code",
   "execution_count": 29,
   "id": "2fecfe12-f358-48ca-8ccb-1db2c05d2900",
   "metadata": {},
   "outputs": [],
   "source": [
    "from sklearn.ensemble import RandomForestRegressor\n",
    "import pickle"
   ]
  },
  {
   "cell_type": "code",
   "execution_count": 30,
   "id": "2d46855d-c5a0-4f2b-b35f-992581bb4128",
   "metadata": {},
   "outputs": [],
   "source": [
    "X_train = pd.read_csv('data/processed/train.csv')\n",
    "y_train = X_train.pop('rented_bike_count')"
   ]
  },
  {
   "cell_type": "code",
   "execution_count": 31,
   "id": "eb97783c-732c-4f46-b571-13eb015a8934",
   "metadata": {},
   "outputs": [],
   "source": [
    "seed = 42\n",
    "n_est = 100"
   ]
  },
  {
   "cell_type": "code",
   "execution_count": 32,
   "id": "ac3cb0d2-71dc-4377-bcf9-bf7eb820195a",
   "metadata": {},
   "outputs": [
    {
     "data": {
      "text/plain": [
       "RandomForestRegressor(random_state=42)"
      ]
     },
     "execution_count": 32,
     "metadata": {},
     "output_type": "execute_result"
    }
   ],
   "source": [
    "rf = RandomForestRegressor(n_estimators=n_est, random_state=seed)\n",
    "rf.fit(X_train.values, y_train.values)"
   ]
  },
  {
   "cell_type": "code",
   "execution_count": 33,
   "id": "2f1527f8-cc31-44c6-ad83-cc62db880d17",
   "metadata": {},
   "outputs": [],
   "source": [
    "with open('models/rf_model.pkl', \"wb\") as fd:\n",
    "    pickle.dump(rf, fd)"
   ]
  },
  {
   "cell_type": "code",
   "execution_count": 38,
   "id": "ac9d0d13-99b8-4578-8c9a-fa6ecc665d38",
   "metadata": {},
   "outputs": [
    {
     "data": {
      "text/plain": [
       "array([226.38, 211.76, 165.48,  95.93,  80.49,  90.37, 150.53, 476.47,\n",
       "       795.83, 447.04])"
      ]
     },
     "execution_count": 38,
     "metadata": {},
     "output_type": "execute_result"
    }
   ],
   "source": [
    "rf.predict(X_train.values)[:10]"
   ]
  },
  {
   "cell_type": "code",
   "execution_count": 35,
   "id": "dbc8cecf-eddb-4476-af6b-d4544a5a03b2",
   "metadata": {},
   "outputs": [
    {
     "name": "stdout",
     "output_type": "stream",
     "text": [
      "Overwriting src/train.py\n"
     ]
    }
   ],
   "source": [
    "%%writefile src/train.py\n",
    "\n",
    "import os, pickle, sys\n",
    "import numpy as np, pandas as pd\n",
    "from sklearn.ensemble import RandomForestRegressor\n",
    "\n",
    "input_data = sys.argv[1]\n",
    "output = os.path.join('models', 'rf_model.pkl')\n",
    "seed = 42\n",
    "n_est = 100\n",
    "\n",
    "X_train = pd.read_csv(input_data)\n",
    "y_train = X_train.pop('rented_bike_count')\n",
    "\n",
    "rf = RandomForestRegressor(n_estimators=n_est, random_state=seed)\n",
    "rf.fit(X_train.values, y_train.values)\n",
    "\n",
    "with open(output, \"wb\") as fd:\n",
    "    pickle.dump(rf, fd)"
   ]
  },
  {
   "cell_type": "code",
   "execution_count": 40,
   "id": "fa311db9-518d-4b9e-bca8-8284c8e4c9bc",
   "metadata": {},
   "outputs": [
    {
     "name": "stdout",
     "output_type": "stream",
     "text": [
      "\n",
      "To track the changes with git, run:\n",
      "\n",
      "\tgit add models/.gitignore models/rf_model.pkl.dvc\n",
      "1 file pushed\n",
      "[master eb2504f] Training stage completed\n",
      " 4 files changed, 1171 insertions(+), 2826 deletions(-)\n",
      " create mode 100644 models/.gitignore\n",
      " create mode 100644 models/rf_model.pkl.dvc\n",
      " rewrite notebooks/exploration.ipynb (72%)\n",
      " create mode 100644 src/train.py\n"
     ]
    },
    {
     "name": "stderr",
     "output_type": "stream",
     "text": [
      "To https://github.com/ramonpzg/bikes_ml.git\n",
      "   6950930..eb2504f  master -> master\n"
     ]
    }
   ],
   "source": [
    "%%bash\n",
    "\n",
    "dvc add models/rf_model.pkl\n",
    "dvc push"
   ]
  },
  {
   "cell_type": "code",
   "execution_count": null,
   "id": "8c951d0c-b9de-4467-a183-966939d85b84",
   "metadata": {},
   "outputs": [],
   "source": [
    "%%bash\n",
    "\n",
    "git add .\n",
    "git commit -m \"Training stage completed\"\n",
    "git push"
   ]
  },
  {
   "cell_type": "markdown",
   "id": "d61ad215-114d-4e96-8316-8dd389322be9",
   "metadata": {},
   "source": [
    "## Evaluate"
   ]
  },
  {
   "cell_type": "code",
   "execution_count": 63,
   "id": "e0c3b8cb-6561-4a3e-9b14-56222729b7f4",
   "metadata": {},
   "outputs": [],
   "source": [
    "import sklearn.metrics as metrics\n",
    "import numpy as np, json"
   ]
  },
  {
   "cell_type": "code",
   "execution_count": 42,
   "id": "a49d61b1-5a0a-434e-bb9a-59b21d1365e9",
   "metadata": {},
   "outputs": [],
   "source": [
    "with open('models/rf_model.pkl', \"rb\") as fd:\n",
    "    model = pickle.load(fd)"
   ]
  },
  {
   "cell_type": "code",
   "execution_count": 43,
   "id": "7f45a47e-23a4-4cab-9806-7f7eca2eaae1",
   "metadata": {},
   "outputs": [],
   "source": [
    "X_test = pd.read_csv('data/processed/test.csv')\n",
    "y_test = X_test.pop('rented_bike_count')"
   ]
  },
  {
   "cell_type": "code",
   "execution_count": 45,
   "id": "af1bba05-ce47-4b49-a08f-ee51d201957b",
   "metadata": {},
   "outputs": [
    {
     "data": {
      "text/plain": [
       "array([ 678.43,  690.88,  655.57,  721.8 ,  940.68, 1380.16, 2060.02,\n",
       "       1961.72, 1769.  , 1772.99])"
      ]
     },
     "execution_count": 45,
     "metadata": {},
     "output_type": "execute_result"
    }
   ],
   "source": [
    "predictions = model.predict(X_test.values)\n",
    "predictions[:10]"
   ]
  },
  {
   "cell_type": "code",
   "execution_count": 52,
   "id": "299ff603-a8af-49ed-bd83-717c0205a860",
   "metadata": {},
   "outputs": [
    {
     "name": "stdout",
     "output_type": "stream",
     "text": [
      "Mean Absolute Error: 249.12\n",
      "Root Mean Square Error: 373.88\n",
      "R^2: 0.667\n"
     ]
    }
   ],
   "source": [
    "mae = metrics.mean_absolute_error(y_test.values, predictions)\n",
    "rmse = np.sqrt(metrics.mean_squared_error(y_test.values, predictions))\n",
    "r2_score = model.score(X_test.values, y_test.values)\n",
    "\n",
    "print(f\"Mean Absolute Error: {mae:.2f}\")\n",
    "print(f\"Root Mean Square Error: {rmse:.2f}\")\n",
    "print(f\"R^2: {r2_score:.3f}\")"
   ]
  },
  {
   "cell_type": "code",
   "execution_count": 64,
   "id": "31f48481-cb1f-4fa4-ad3d-3cda28abebeb",
   "metadata": {},
   "outputs": [],
   "source": [
    "with open(os.path.join('metrics', 'metrics.json'), \"w\") as fd:\n",
    "    json.dump({\"MAE\": mae, \"RMSE\": rmse, \"R^2\":r2_score}, fd, indent=4)"
   ]
  },
  {
   "cell_type": "code",
   "execution_count": 53,
   "id": "2bca6a9d-6165-4f2a-a96c-28f54c8223d1",
   "metadata": {},
   "outputs": [
    {
     "name": "stdout",
     "output_type": "stream",
     "text": [
      "Writing src/evaluate.py\n"
     ]
    }
   ],
   "source": [
    "%%writefile src/evaluate.py\n",
    "\n",
    "import json, os, pickle, sys, pandas as pd, numpy as np\n",
    "import sklearn.metrics as metrics\n",
    "\n",
    "model_file = sys.argv[1]\n",
    "test_file = os.path.join(sys.argv[2], \"test.csv\")\n",
    "scores_file = os.path.join('metrics', 'metrics.json')\n",
    "\n",
    "with open(model_file, \"rb\") as fd:\n",
    "    model = pickle.load(fd)\n",
    "\n",
    "X_test = pd.read_csv(test_file)\n",
    "y_test = X_test.pop('rented_bike_count')\n",
    "\n",
    "predictions = model.predict(X_test.values)\n",
    "\n",
    "mae = metrics.mean_absolute_error(y_test.values, predictions)\n",
    "rmse = np.sqrt(metrics.mean_squared_error(y_test.values, predictions))\n",
    "r2_score = model.score(X_test.values, y_test.values)\n",
    "\n",
    "with open(scores_file, \"w\") as fd:\n",
    "    json.dump({\"MAE\": mae, \"RMSE\": rmse, \"R^2\":r2_score}, fd, indent=4)"
   ]
  },
  {
   "cell_type": "code",
   "execution_count": 54,
   "id": "88f3ae59-ff31-4134-bdd9-4debef32f69f",
   "metadata": {},
   "outputs": [
    {
     "name": "stdout",
     "output_type": "stream",
     "text": [
      "[master 179bf62] Evaluation stage completed\n",
      " 2 files changed, 201 insertions(+), 6 deletions(-)\n",
      " create mode 100644 src/evaluate.py\n"
     ]
    },
    {
     "name": "stderr",
     "output_type": "stream",
     "text": [
      "To https://github.com/ramonpzg/bikes_ml.git\n",
      "   eb2504f..179bf62  master -> master\n"
     ]
    }
   ],
   "source": [
    "%%bash\n",
    "\n",
    "git add .\n",
    "git commit -m \"Evaluation stage completed\"\n",
    "git push"
   ]
  },
  {
   "cell_type": "markdown",
   "id": "7c040bbb-57ea-43d9-8bd0-46d61e10afac",
   "metadata": {},
   "source": [
    "## Pipelines"
   ]
  },
  {
   "cell_type": "code",
   "execution_count": 72,
   "id": "65036208-10d5-42f8-a3e9-6ce3732fba63",
   "metadata": {},
   "outputs": [],
   "source": [
    "%%bash\n",
    "\n",
    "dvc remove data/raw/SeoulBikeData.csv.dvc \\\n",
    "           data/processed/train.csv.dvc \\\n",
    "           data/processed/test.csv.dvc \\\n",
    "           models/rf_model.pkl.dvc"
   ]
  },
  {
   "cell_type": "code",
   "execution_count": 74,
   "id": "2196e363-b94d-4833-8b6b-4a54ce5a6820",
   "metadata": {},
   "outputs": [
    {
     "name": "stdout",
     "output_type": "stream",
     "text": [
      "Running stage 'get_data':\n",
      "> python src/get_data.py\n",
      "Creating 'dvc.yaml'\n",
      "Adding stage 'get_data' in 'dvc.yaml'\n",
      "Generating lock file 'dvc.lock'\n",
      "Updating lock file 'dvc.lock'\n",
      "\n",
      "To track the changes with git, run:\n",
      "\n",
      "\tgit add data/raw/.gitignore dvc.yaml dvc.lock\n"
     ]
    }
   ],
   "source": [
    "%%bash\n",
    "\n",
    "dvc run -n get_data \\\n",
    "-d src/get_data.py \\\n",
    "-o data/raw/SeoulBikeData.csv \\\n",
    "python src/get_data.py"
   ]
  },
  {
   "cell_type": "code",
   "execution_count": 75,
   "id": "a38c42f4-4305-42ef-bf1d-39c629eb80e5",
   "metadata": {},
   "outputs": [
    {
     "name": "stdout",
     "output_type": "stream",
     "text": [
      "Running stage 'prepare':\n",
      "> python src/prepare.py data/raw/SeoulBikeData.csv\n",
      "Adding stage 'prepare' in 'dvc.yaml'\n",
      "Updating lock file 'dvc.lock'\n",
      "\n",
      "To track the changes with git, run:\n",
      "\n",
      "\tgit add dvc.yaml data/processed/.gitignore dvc.lock\n"
     ]
    }
   ],
   "source": [
    "%%bash\n",
    "\n",
    "dvc run -n prepare \\\n",
    "-d src/prepare.py -d data/raw/SeoulBikeData.csv \\\n",
    "-o data/processed/train.csv -o data/processed/test.csv \\\n",
    "python src/prepare.py data/raw/SeoulBikeData.csv"
   ]
  },
  {
   "cell_type": "code",
   "execution_count": 77,
   "id": "9a568036-8a74-4aa9-a208-59734f8a3277",
   "metadata": {},
   "outputs": [
    {
     "name": "stdout",
     "output_type": "stream",
     "text": [
      "Running stage 'train':\n",
      "> python src/train.py data/processed/train.csv\n",
      "Adding stage 'train' in 'dvc.yaml'\n",
      "Updating lock file 'dvc.lock'\n",
      "\n",
      "To track the changes with git, run:\n",
      "\n",
      "\tgit add dvc.yaml models/.gitignore dvc.lock\n"
     ]
    }
   ],
   "source": [
    "%%bash\n",
    "\n",
    "dvc run -n train \\\n",
    "-d src/train.py -d data/processed/train.csv \\\n",
    "-o models/rf_model.pkl \\\n",
    "python src/train.py data/processed/train.csv"
   ]
  },
  {
   "cell_type": "code",
   "execution_count": 79,
   "id": "3bba7fe3-776e-4d3e-b528-70ca2a0b1103",
   "metadata": {},
   "outputs": [
    {
     "name": "stdout",
     "output_type": "stream",
     "text": [
      "Running stage 'evaluate':\n",
      "> python src/evaluate.py models/rf_model.pkl data/processed\n",
      "Adding stage 'evaluate' in 'dvc.yaml'\n",
      "Updating lock file 'dvc.lock'\n",
      "\n",
      "To track the changes with git, run:\n",
      "\n",
      "\tgit add dvc.lock dvc.yaml\n"
     ]
    }
   ],
   "source": [
    "%%bash\n",
    "\n",
    "dvc run -n evaluate \\\n",
    "-d src/evaluate.py -d models/rf_model.pkl -d data/processed \\\n",
    "-M metrics/metrics.json \\\n",
    "python src/evaluate.py models/rf_model.pkl data/processed"
   ]
  },
  {
   "cell_type": "code",
   "execution_count": 80,
   "id": "8c9f097e-2bc1-4524-a7e7-9bb25dcb0941",
   "metadata": {},
   "outputs": [
    {
     "name": "stdout",
     "output_type": "stream",
     "text": [
      "        +----------+      \n",
      "        | get_data |      \n",
      "        +----------+      \n",
      "              *           \n",
      "              *           \n",
      "              *           \n",
      "         +---------+      \n",
      "         | prepare |      \n",
      "         +---------+      \n",
      "         **        **     \n",
      "       **            *    \n",
      "      *               **  \n",
      "+-------+               * \n",
      "| train |             **  \n",
      "+-------+            *    \n",
      "         **        **     \n",
      "           **    **       \n",
      "             *  *         \n",
      "        +----------+      \n",
      "        | evaluate |      \n",
      "        +----------+      \u001b[0m"
     ]
    }
   ],
   "source": [
    "!dvc dag"
   ]
  },
  {
   "cell_type": "code",
   "execution_count": 84,
   "id": "426eb737-5c0a-4df4-b7f6-de056551f8dd",
   "metadata": {},
   "outputs": [],
   "source": [
    "!rm dvc.lock data/raw/SeoulBikeData.csv data/processed/train.csv data/processed/test.csv"
   ]
  },
  {
   "cell_type": "code",
   "execution_count": 85,
   "id": "f892ec11-56a4-4f4c-8a2f-f575f153c202",
   "metadata": {},
   "outputs": [
    {
     "name": "stdout",
     "output_type": "stream",
     "text": [
      "Stage 'get_data' is cached - skipping run, checking out outputs       core\u001b[39m>\n",
      "Generating lock file 'dvc.lock'                                                 \n",
      "Updating lock file 'dvc.lock'\n",
      "\n",
      "Stage 'prepare' is cached - skipping run, checking out outputs\n",
      "Updating lock file 'dvc.lock'                                                   \n",
      "\n",
      "Stage 'train' is cached - skipping run, checking out outputs\n",
      "Updating lock file 'dvc.lock'                                                   \n",
      "\n",
      "Stage 'evaluate' is cached - skipping run, checking out outputs                 \n",
      "Updating lock file 'dvc.lock'                                                   \n",
      "\n",
      "To track the changes with git, run:\n",
      "\n",
      "\tgit add dvc.lock\n",
      "Use `dvc push` to send your updates to remote storage.\n",
      "\u001b[0m"
     ]
    }
   ],
   "source": [
    "!dvc repro"
   ]
  },
  {
   "cell_type": "code",
   "execution_count": 86,
   "id": "f1c403ec-beef-49ef-a0a9-7500ed0f84f7",
   "metadata": {},
   "outputs": [
    {
     "name": "stdout",
     "output_type": "stream",
     "text": [
      "On branch master\n",
      "Your branch is up to date with 'origin/master'.\n",
      "\n",
      "Changes not staged for commit:\n",
      "  (use \"git add/rm <file>...\" to update what will be committed)\n",
      "  (use \"git restore <file>...\" to discard changes in working directory)\n",
      "\t\u001b[31mdeleted:    data/processed/test.csv.dvc\u001b[m\n",
      "\t\u001b[31mdeleted:    data/processed/train.csv.dvc\u001b[m\n",
      "\t\u001b[31mdeleted:    data/raw/SeoulBikeData.csv.dvc\u001b[m\n",
      "\t\u001b[31mmodified:   dvc.lock\u001b[m\n",
      "\t\u001b[31mmodified:   dvc.yaml\u001b[m\n",
      "\t\u001b[31mmodified:   metrics/metrics.json\u001b[m\n",
      "\t\u001b[31mdeleted:    models/rf_model.pkl.dvc\u001b[m\n",
      "\t\u001b[31mmodified:   notebooks/exploration.ipynb\u001b[m\n",
      "\n",
      "no changes added to commit (use \"git add\" and/or \"git commit -a\")\n"
     ]
    }
   ],
   "source": [
    "!git status"
   ]
  },
  {
   "cell_type": "code",
   "execution_count": 87,
   "id": "21873908-3522-4b92-aaf5-026a9106f9ac",
   "metadata": {},
   "outputs": [
    {
     "name": "stdout",
     "output_type": "stream",
     "text": [
      "[master 352fba5] Pipeline Finished\n",
      " 8 files changed, 237 insertions(+), 129 deletions(-)\n",
      " delete mode 100644 data/processed/test.csv.dvc\n",
      " delete mode 100644 data/processed/train.csv.dvc\n",
      " delete mode 100644 data/raw/SeoulBikeData.csv.dvc\n",
      " delete mode 100644 models/rf_model.pkl.dvc\n"
     ]
    },
    {
     "name": "stderr",
     "output_type": "stream",
     "text": [
      "To https://github.com/ramonpzg/bikes_ml.git\n",
      "   da046c3..352fba5  master -> master\n"
     ]
    }
   ],
   "source": [
    "%%bash\n",
    "\n",
    "git add .\n",
    "git commit -m \"Pipeline Finished\"\n",
    "git push"
   ]
  },
  {
   "cell_type": "code",
   "execution_count": null,
   "id": "605c5f3c-b9d8-4f8d-8329-e7eae918f632",
   "metadata": {},
   "outputs": [],
   "source": []
  },
  {
   "cell_type": "markdown",
   "id": "b6da9cbb-4176-42ed-ba29-8075b543ef1f",
   "metadata": {},
   "source": [
    "## CI/CD Pipelines with CML"
   ]
  },
  {
   "cell_type": "markdown",
   "id": "a4ba7202-3c4d-47f5-acdc-51c009dc710f",
   "metadata": {},
   "source": [
    "\n",
    "\n",
    "Create a `requirements.txt` file"
   ]
  },
  {
   "cell_type": "code",
   "execution_count": 89,
   "id": "2cf9e7b6-6cbf-46ed-a6a6-73def63f0c0e",
   "metadata": {},
   "outputs": [
    {
     "name": "stdout",
     "output_type": "stream",
     "text": [
      "Writing requirements.txt\n"
     ]
    }
   ],
   "source": [
    "%%writefile requirements.txt\n",
    "\n",
    "pandas\n",
    "scikit-learn\n",
    "numpy\n",
    "xgboost\n",
    "lightgbm\n",
    "catboost"
   ]
  },
  {
   "cell_type": "markdown",
   "id": "7e3d3fdc-ce79-461e-a15e-a6620bcec608",
   "metadata": {},
   "source": [
    "First add your secrets to github\n",
    "\n",
    "1. Go to Settings > Secrets and click on **New repository secret**\n",
    "2. On the **Name** box write **AWS_ACCESS_KEY_ID**\n",
    "3. On the **Value** box write the access key you created earlier\n",
    "4. Do the same as above for your **AWS_SECRET_ACCESS_KEY**\n",
    "\n"
   ]
  },
  {
   "cell_type": "code",
   "execution_count": 88,
   "id": "8f7d69fa-4600-413a-bfb6-09623eac4589",
   "metadata": {},
   "outputs": [
    {
     "name": "stdout",
     "output_type": "stream",
     "text": [
      "Writing .github/workflows/cml.yaml\n"
     ]
    }
   ],
   "source": [
    "%%writefile .github/workflows/cml.yaml\n",
    "\n",
    "name: bikes-pipeline-test\n",
    "on: push\n",
    "jobs:\n",
    "  run:\n",
    "    runs-on: [ubuntu-latest]\n",
    "    container: docker://dvcorg/cml:0-dvc2-base1\n",
    "    steps:\n",
    "      - uses: actions/checkout@v2\n",
    "      - name: cml_run \n",
    "        env:\n",
    "          REPO_TOKEN: ${{ secrets.GITHUB_TOKEN }}\n",
    "          AWS_ACCESS_KEY_ID: ${{ secrets.AWS_ACCESS_KEY_ID }}\n",
    "          AWS_SECRET_ACCESS_KEY: ${{ secrets.AWS_SECRET_ACCESS_KEY }}\n",
    "        run: |\n",
    "\n",
    "          pip install -r requirements.txt\n",
    "          \n",
    "          dvc repro\n",
    "          dvc push\n",
    "          git fetch --prune\n",
    "\n",
    "\n",
    "          echo \"# CML Report\" > report.md\n",
    "          dvc metrics diff --show-md master >> report.md\n",
    "          cml-send-comment report.md"
   ]
  },
  {
   "cell_type": "code",
   "execution_count": 90,
   "id": "186762d4-15a5-42bc-b7f1-18bc9a783f6b",
   "metadata": {},
   "outputs": [
    {
     "name": "stdout",
     "output_type": "stream",
     "text": [
      "On branch master\n",
      "Your branch is up to date with 'origin/master'.\n",
      "\n",
      "Changes not staged for commit:\n",
      "  (use \"git add <file>...\" to update what will be committed)\n",
      "  (use \"git restore <file>...\" to discard changes in working directory)\n",
      "\t\u001b[31mmodified:   notebooks/exploration.ipynb\u001b[m\n",
      "\n",
      "Untracked files:\n",
      "  (use \"git add <file>...\" to include in what will be committed)\n",
      "\t\u001b[31m.github/\u001b[m\n",
      "\t\u001b[31mREADME.md\u001b[m\n",
      "\t\u001b[31mrequirements.txt\u001b[m\n",
      "\n",
      "no changes added to commit (use \"git add\" and/or \"git commit -a\")\n"
     ]
    }
   ],
   "source": [
    "!git status"
   ]
  },
  {
   "cell_type": "code",
   "execution_count": 91,
   "id": "ef9556fa-86c0-4f4f-9724-c7b8189c770b",
   "metadata": {},
   "outputs": [
    {
     "name": "stdout",
     "output_type": "stream",
     "text": [
      "[master 22da554] Adding CML CI/CD Pipeline\n",
      " 4 files changed, 189 insertions(+), 16 deletions(-)\n",
      " create mode 100644 .github/workflows/cml.yaml\n",
      " create mode 100644 README.md\n",
      " create mode 100644 requirements.txt\n"
     ]
    },
    {
     "name": "stderr",
     "output_type": "stream",
     "text": [
      "To https://github.com/ramonpzg/bikes_ml.git\n",
      "   352fba5..22da554  master -> master\n"
     ]
    }
   ],
   "source": [
    "%%bash\n",
    "\n",
    "git add .\n",
    "git commit -m \"Adding CML CI/CD Pipeline\"\n",
    "git push"
   ]
  },
  {
   "cell_type": "code",
   "execution_count": null,
   "id": "01822849-78c9-47f7-bc6e-9eb865033ac7",
   "metadata": {},
   "outputs": [],
   "source": []
  },
  {
   "cell_type": "markdown",
   "id": "ee292403-b2cf-4d00-9ebc-c3aae45470ec",
   "metadata": {},
   "source": [
    "# Experiments"
   ]
  },
  {
   "cell_type": "code",
   "execution_count": 92,
   "id": "1ae4a4af-907d-42e1-bc6d-d9c7320acc16",
   "metadata": {},
   "outputs": [
    {
     "name": "stdout",
     "output_type": "stream",
     "text": [
      "Switched to a new branch 'exp1-xgb'\n"
     ]
    }
   ],
   "source": [
    "!git checkout -b \"exp1-xgb\""
   ]
  },
  {
   "cell_type": "code",
   "execution_count": 93,
   "id": "21990be6-1729-4c22-a900-9ed3801730b3",
   "metadata": {},
   "outputs": [
    {
     "name": "stdout",
     "output_type": "stream",
     "text": [
      "Overwriting src/train.py\n"
     ]
    }
   ],
   "source": [
    "%%writefile src/train.py\n",
    "\n",
    "import os, pickle, sys, pandas as pd\n",
    "from xgboost import XGBRFRegressor\n",
    "\n",
    "input_data = sys.argv[1]\n",
    "output = os.path.join('models', 'rf_model.pkl')\n",
    "seed = 42\n",
    "n_est = 100\n",
    "\n",
    "X_train = pd.read_csv(input_data)\n",
    "y_train = X_train.pop('rented_bike_count')\n",
    "\n",
    "rf = XGBRFRegressor(n_estimators=n_est, seed=seed)\n",
    "rf.fit(X_train.values, y_train.values)\n",
    "\n",
    "with open(output, \"wb\") as fd:\n",
    "    pickle.dump(rf, fd)"
   ]
  },
  {
   "cell_type": "code",
   "execution_count": 94,
   "id": "1d51b865-a189-4c20-9ae8-6582c5f757dc",
   "metadata": {},
   "outputs": [
    {
     "name": "stdout",
     "output_type": "stream",
     "text": [
      "[exp1-xgb a5ef829] Testing XGBoost\n",
      " 2 files changed, 122 insertions(+), 20 deletions(-)\n",
      "Branch 'exp1-xgb' set up to track remote branch 'exp1-xgb' from 'origin'.\n"
     ]
    },
    {
     "name": "stderr",
     "output_type": "stream",
     "text": [
      "remote: \n",
      "remote: Create a pull request for 'exp1-xgb' on GitHub by visiting:        \n",
      "remote:      https://github.com/ramonpzg/bikes_ml/pull/new/exp1-xgb        \n",
      "remote: \n",
      "To https://github.com/ramonpzg/bikes_ml.git\n",
      " * [new branch]      exp1-xgb -> exp1-xgb\n",
      "Everything up-to-date\n"
     ]
    }
   ],
   "source": [
    "%%bash\n",
    "\n",
    "git add .\n",
    "git commit -m \"Testing XGBoost\"\n",
    "git push --set-upstream origin exp1-xgb\n",
    "git push"
   ]
  },
  {
   "cell_type": "code",
   "execution_count": 95,
   "id": "dc659270-6237-4a85-aab0-9eb6caf4c3d3",
   "metadata": {},
   "outputs": [
    {
     "name": "stdout",
     "output_type": "stream",
     "text": [
      "Switched to a new branch 'exp2-lgbm'\n"
     ]
    }
   ],
   "source": [
    "!git checkout -b \"exp2-lgbm\""
   ]
  },
  {
   "cell_type": "code",
   "execution_count": 96,
   "id": "3f1acc0c-0dae-48bc-868e-22701b49c481",
   "metadata": {},
   "outputs": [
    {
     "name": "stdout",
     "output_type": "stream",
     "text": [
      "Overwriting src/train.py\n"
     ]
    }
   ],
   "source": [
    "%%writefile src/train.py\n",
    "\n",
    "import os, pickle, sys, pandas as pd\n",
    "from lightgbm import LGBMRegressor\n",
    "\n",
    "input_data = sys.argv[1]\n",
    "output = os.path.join('models', 'rf_model.pkl')\n",
    "seed = 42\n",
    "n_est = 100\n",
    "\n",
    "X_train = pd.read_csv(input_data)\n",
    "y_train = X_train.pop('rented_bike_count')\n",
    "\n",
    "rf = LGBMRegressor(n_estimators=n_est, random_state=seed)\n",
    "rf.fit(X_train.values, y_train.values)\n",
    "\n",
    "with open(output, \"wb\") as fd:\n",
    "    pickle.dump(rf, fd)"
   ]
  },
  {
   "cell_type": "code",
   "execution_count": 97,
   "id": "a4a771ab-4f9a-43d5-ba65-db5675239c17",
   "metadata": {},
   "outputs": [
    {
     "name": "stdout",
     "output_type": "stream",
     "text": [
      "[exp2-lgbm 7b688c6] Testing LightGBM\n",
      " 2 files changed, 80 insertions(+), 12 deletions(-)\n",
      "Branch 'exp2-lgbm' set up to track remote branch 'exp2-lgbm' from 'origin'.\n"
     ]
    },
    {
     "name": "stderr",
     "output_type": "stream",
     "text": [
      "remote: \n",
      "remote: Create a pull request for 'exp2-lgbm' on GitHub by visiting:        \n",
      "remote:      https://github.com/ramonpzg/bikes_ml/pull/new/exp2-lgbm        \n",
      "remote: \n",
      "To https://github.com/ramonpzg/bikes_ml.git\n",
      " * [new branch]      exp2-lgbm -> exp2-lgbm\n",
      "Everything up-to-date\n"
     ]
    }
   ],
   "source": [
    "%%bash\n",
    "\n",
    "git add .\n",
    "git commit -m \"Testing LightGBM\"\n",
    "git push --set-upstream origin exp2-lgbm\n",
    "git push"
   ]
  },
  {
   "cell_type": "code",
   "execution_count": 99,
   "id": "648783bd-722e-4e56-b5e7-2db0474fc1b4",
   "metadata": {},
   "outputs": [
    {
     "name": "stdout",
     "output_type": "stream",
     "text": [
      "Switched to a new branch 'exp3-cat'\n"
     ]
    }
   ],
   "source": [
    "!git checkout -b \"exp3-cat\""
   ]
  },
  {
   "cell_type": "code",
   "execution_count": 100,
   "id": "4ebb6ab7-2e9e-4707-902f-21180b6b69c9",
   "metadata": {},
   "outputs": [
    {
     "name": "stdout",
     "output_type": "stream",
     "text": [
      "Overwriting src/train.py\n"
     ]
    }
   ],
   "source": [
    "%%writefile src/train.py\n",
    "\n",
    "import os, pickle, sys, pandas as pd\n",
    "from catboost import CatBoostRegressor\n",
    "\n",
    "input_data = sys.argv[1]\n",
    "output = os.path.join('models', 'rf_model.pkl')\n",
    "seed = 42\n",
    "n_est = 100\n",
    "\n",
    "X_train = pd.read_csv(input_data)\n",
    "y_train = X_train.pop('rented_bike_count')\n",
    "\n",
    "rf = CatBoostRegressor(n_estimators=n_est, random_state=seed)\n",
    "rf.fit(X_train.values, y_train.values)\n",
    "\n",
    "with open(output, \"wb\") as fd:\n",
    "    pickle.dump(rf, fd)"
   ]
  },
  {
   "cell_type": "code",
   "execution_count": 101,
   "id": "fb5892de-da20-4372-80db-063e905d2868",
   "metadata": {},
   "outputs": [
    {
     "name": "stdout",
     "output_type": "stream",
     "text": [
      "[exp3-cat 59742a0] Testing CatBoost\n",
      " 2 files changed, 38 insertions(+), 14 deletions(-)\n",
      "Branch 'exp3-cat' set up to track remote branch 'exp3-cat' from 'origin'.\n"
     ]
    },
    {
     "name": "stderr",
     "output_type": "stream",
     "text": [
      "remote: \n",
      "remote: Create a pull request for 'exp3-cat' on GitHub by visiting:        \n",
      "remote:      https://github.com/ramonpzg/bikes_ml/pull/new/exp3-cat        \n",
      "remote: \n",
      "To https://github.com/ramonpzg/bikes_ml.git\n",
      " * [new branch]      exp3-cat -> exp3-cat\n",
      "Everything up-to-date\n"
     ]
    }
   ],
   "source": [
    "%%bash\n",
    "\n",
    "git add .\n",
    "git commit -m \"Testing CatBoost\"\n",
    "git push --set-upstream origin exp3-cat\n",
    "git push"
   ]
  }
 ],
 "metadata": {
  "kernelspec": {
   "display_name": "Python 3 (ipykernel)",
   "language": "python",
   "name": "python3"
  },
  "language_info": {
   "codemirror_mode": {
    "name": "ipython",
    "version": 3
   },
   "file_extension": ".py",
   "mimetype": "text/x-python",
   "name": "python",
   "nbconvert_exporter": "python",
   "pygments_lexer": "ipython3",
   "version": "3.9.7"
  }
 },
 "nbformat": 4,
 "nbformat_minor": 5
}
