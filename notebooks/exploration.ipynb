{
 "cells": [
  {
   "cell_type": "markdown",
   "id": "182c06ef-fcda-4850-9dc0-4c15af093554",
   "metadata": {},
   "source": [
    "# Exploration"
   ]
  },
  {
   "cell_type": "markdown",
   "id": "a09ed3dc-4b3d-442a-aa25-f68619e7b1a2",
   "metadata": {},
   "source": [
    "## 1. Get The Data"
   ]
  },
  {
   "cell_type": "code",
   "execution_count": null,
   "id": "0061face-8fbd-4a62-b477-fa7472520bf2",
   "metadata": {},
   "outputs": [],
   "source": [
    "import urllib.request, os"
   ]
  },
  {
   "cell_type": "code",
   "execution_count": null,
   "id": "bd30bbd4-b7d4-48b6-9a7c-ad2df8a74286",
   "metadata": {},
   "outputs": [],
   "source": [
    "os.chdir('..')"
   ]
  },
  {
   "cell_type": "code",
   "execution_count": null,
   "id": "1e017317-2ef4-4756-95aa-9f5c1f8bbe50",
   "metadata": {},
   "outputs": [],
   "source": [
    "url = 'https://archive.ics.uci.edu/ml/machine-learning-databases/00560/SeoulBikeData.csv'\n",
    "path = os.path.join('data', 'raw')\n",
    "filename = 'SeoulBikeData.csv'"
   ]
  },
  {
   "cell_type": "code",
   "execution_count": null,
   "id": "8122ea37-6f1e-440d-b868-559e486a2875",
   "metadata": {},
   "outputs": [
    {
     "data": {
      "text/plain": [
       "('../data/raw/SeoulBikeData.csv', <http.client.HTTPMessage at 0x7f3cac3540a0>)"
      ]
     },
     "execution_count": 3,
     "metadata": {},
     "output_type": "execute_result"
    }
   ],
   "source": [
    "urllib.request.urlretrieve(url, os.path.join(path, filename))"
   ]
  },
  {
   "cell_type": "code",
   "execution_count": 58,
   "id": "406e6f49-e524-457c-87f0-123e7ec0aba7",
   "metadata": {},
   "outputs": [
    {
     "name": "stdout",
     "output_type": "stream",
     "text": [
      "Overwriting src/get_data.py\n"
     ]
    }
   ],
   "source": [
    "%%writefile src/get_data.py\n",
    "\n",
    "import urllib.request, os\n",
    "\n",
    "url = 'https://archive.ics.uci.edu/ml/machine-learning-databases/00560/SeoulBikeData.csv'\n",
    "path = os.path.join('data', 'raw')\n",
    "filename = 'SeoulBikeData.csv'\n",
    "\n",
    "if not os.path.exists(path):\n",
    "        os.makedirs(path)\n",
    "        \n",
    "urllib.request.urlretrieve(url, os.path.join(path, filename))"
   ]
  },
  {
   "cell_type": "code",
   "execution_count": 5,
   "id": "80870868-99b1-48f6-b1b7-5e5da79878f3",
   "metadata": {},
   "outputs": [],
   "source": [
    "os.chdir('..')"
   ]
  },
  {
   "cell_type": "code",
   "execution_count": 6,
   "id": "2e0079a9-f441-4bf7-aedc-5d34a1e39213",
   "metadata": {},
   "outputs": [
    {
     "name": "stdout",
     "output_type": "stream",
     "text": [
      "/home/ramonperez/Tresors/datascience/projects/bikes_ml\n"
     ]
    }
   ],
   "source": [
    "!pwd"
   ]
  },
  {
   "cell_type": "code",
   "execution_count": 8,
   "id": "f5bed750-ec0d-4c4e-84aa-4049f0b66a4b",
   "metadata": {},
   "outputs": [
    {
     "name": "stdout",
     "output_type": "stream",
     "text": [
      "Branch 'master' set up to track remote branch 'master' from 'origin'.\n"
     ]
    },
    {
     "name": "stderr",
     "output_type": "stream",
     "text": [
      "To https://github.com/ramonpzg/bikes_ml.git\n",
      " * [new branch]      master -> master\n"
     ]
    }
   ],
   "source": [
    "%%bash\n",
    "\n",
    "git add data/raw/.gitignore data/raw/SeoulBikeData.csv.dvc\n",
    "git commit -m \"Start Tracking Data\"\n",
    "git remote add origin https://github.com/ramonpzg/bikes_ml.git\n",
    "git push -u origin master"
   ]
  },
  {
   "cell_type": "code",
   "execution_count": null,
   "id": "ca17d415-7deb-4af4-a071-09fb199d5f40",
   "metadata": {},
   "outputs": [],
   "source": []
  },
  {
   "cell_type": "code",
   "execution_count": null,
   "id": "9d98d686-de12-4e2d-ac77-9f9743d657cf",
   "metadata": {},
   "outputs": [],
   "source": []
  },
  {
   "cell_type": "markdown",
   "id": "aeb0ce85-6f20-40a9-8b70-f4091c1ecf12",
   "metadata": {},
   "source": [
    "## Preparation"
   ]
  },
  {
   "cell_type": "code",
   "execution_count": 16,
   "id": "cededf67-ae55-4c28-8ac5-afa384f6243e",
   "metadata": {},
   "outputs": [],
   "source": [
    "import pandas as pd\n",
    "from sklearn.preprocessing import OneHotEncoder"
   ]
  },
  {
   "cell_type": "code",
   "execution_count": 12,
   "id": "6279278b-b619-4a6c-8af5-2c1df8db9841",
   "metadata": {},
   "outputs": [],
   "source": [
    "data = pd.read_csv('data/raw/SeoulBikeData.csv', encoding='iso-8859-1')"
   ]
  },
  {
   "cell_type": "code",
   "execution_count": 13,
   "id": "7f2dac01-d700-42f6-bba4-9d15d701ca62",
   "metadata": {},
   "outputs": [
    {
     "data": {
      "text/html": [
       "<div>\n",
       "<style scoped>\n",
       "    .dataframe tbody tr th:only-of-type {\n",
       "        vertical-align: middle;\n",
       "    }\n",
       "\n",
       "    .dataframe tbody tr th {\n",
       "        vertical-align: top;\n",
       "    }\n",
       "\n",
       "    .dataframe thead th {\n",
       "        text-align: right;\n",
       "    }\n",
       "</style>\n",
       "<table border=\"1\" class=\"dataframe\">\n",
       "  <thead>\n",
       "    <tr style=\"text-align: right;\">\n",
       "      <th></th>\n",
       "      <th>0</th>\n",
       "      <th>1</th>\n",
       "      <th>2</th>\n",
       "      <th>3</th>\n",
       "      <th>4</th>\n",
       "    </tr>\n",
       "  </thead>\n",
       "  <tbody>\n",
       "    <tr>\n",
       "      <th>Date</th>\n",
       "      <td>01/12/2017</td>\n",
       "      <td>01/12/2017</td>\n",
       "      <td>01/12/2017</td>\n",
       "      <td>01/12/2017</td>\n",
       "      <td>01/12/2017</td>\n",
       "    </tr>\n",
       "    <tr>\n",
       "      <th>Rented Bike Count</th>\n",
       "      <td>254</td>\n",
       "      <td>204</td>\n",
       "      <td>173</td>\n",
       "      <td>107</td>\n",
       "      <td>78</td>\n",
       "    </tr>\n",
       "    <tr>\n",
       "      <th>Hour</th>\n",
       "      <td>0</td>\n",
       "      <td>1</td>\n",
       "      <td>2</td>\n",
       "      <td>3</td>\n",
       "      <td>4</td>\n",
       "    </tr>\n",
       "    <tr>\n",
       "      <th>Temperature(°C)</th>\n",
       "      <td>-5.2</td>\n",
       "      <td>-5.5</td>\n",
       "      <td>-6.0</td>\n",
       "      <td>-6.2</td>\n",
       "      <td>-6.0</td>\n",
       "    </tr>\n",
       "    <tr>\n",
       "      <th>Humidity(%)</th>\n",
       "      <td>37</td>\n",
       "      <td>38</td>\n",
       "      <td>39</td>\n",
       "      <td>40</td>\n",
       "      <td>36</td>\n",
       "    </tr>\n",
       "    <tr>\n",
       "      <th>Wind speed (m/s)</th>\n",
       "      <td>2.2</td>\n",
       "      <td>0.8</td>\n",
       "      <td>1.0</td>\n",
       "      <td>0.9</td>\n",
       "      <td>2.3</td>\n",
       "    </tr>\n",
       "    <tr>\n",
       "      <th>Visibility (10m)</th>\n",
       "      <td>2000</td>\n",
       "      <td>2000</td>\n",
       "      <td>2000</td>\n",
       "      <td>2000</td>\n",
       "      <td>2000</td>\n",
       "    </tr>\n",
       "    <tr>\n",
       "      <th>Dew point temperature(°C)</th>\n",
       "      <td>-17.6</td>\n",
       "      <td>-17.6</td>\n",
       "      <td>-17.7</td>\n",
       "      <td>-17.6</td>\n",
       "      <td>-18.6</td>\n",
       "    </tr>\n",
       "    <tr>\n",
       "      <th>Solar Radiation (MJ/m2)</th>\n",
       "      <td>0.0</td>\n",
       "      <td>0.0</td>\n",
       "      <td>0.0</td>\n",
       "      <td>0.0</td>\n",
       "      <td>0.0</td>\n",
       "    </tr>\n",
       "    <tr>\n",
       "      <th>Rainfall(mm)</th>\n",
       "      <td>0.0</td>\n",
       "      <td>0.0</td>\n",
       "      <td>0.0</td>\n",
       "      <td>0.0</td>\n",
       "      <td>0.0</td>\n",
       "    </tr>\n",
       "    <tr>\n",
       "      <th>Snowfall (cm)</th>\n",
       "      <td>0.0</td>\n",
       "      <td>0.0</td>\n",
       "      <td>0.0</td>\n",
       "      <td>0.0</td>\n",
       "      <td>0.0</td>\n",
       "    </tr>\n",
       "    <tr>\n",
       "      <th>Seasons</th>\n",
       "      <td>Winter</td>\n",
       "      <td>Winter</td>\n",
       "      <td>Winter</td>\n",
       "      <td>Winter</td>\n",
       "      <td>Winter</td>\n",
       "    </tr>\n",
       "    <tr>\n",
       "      <th>Holiday</th>\n",
       "      <td>No Holiday</td>\n",
       "      <td>No Holiday</td>\n",
       "      <td>No Holiday</td>\n",
       "      <td>No Holiday</td>\n",
       "      <td>No Holiday</td>\n",
       "    </tr>\n",
       "    <tr>\n",
       "      <th>Functioning Day</th>\n",
       "      <td>Yes</td>\n",
       "      <td>Yes</td>\n",
       "      <td>Yes</td>\n",
       "      <td>Yes</td>\n",
       "      <td>Yes</td>\n",
       "    </tr>\n",
       "  </tbody>\n",
       "</table>\n",
       "</div>"
      ],
      "text/plain": [
       "                                    0           1           2           3  \\\n",
       "Date                       01/12/2017  01/12/2017  01/12/2017  01/12/2017   \n",
       "Rented Bike Count                 254         204         173         107   \n",
       "Hour                                0           1           2           3   \n",
       "Temperature(°C)                  -5.2        -5.5        -6.0        -6.2   \n",
       "Humidity(%)                        37          38          39          40   \n",
       "Wind speed (m/s)                  2.2         0.8         1.0         0.9   \n",
       "Visibility (10m)                 2000        2000        2000        2000   \n",
       "Dew point temperature(°C)       -17.6       -17.6       -17.7       -17.6   \n",
       "Solar Radiation (MJ/m2)           0.0         0.0         0.0         0.0   \n",
       "Rainfall(mm)                      0.0         0.0         0.0         0.0   \n",
       "Snowfall (cm)                     0.0         0.0         0.0         0.0   \n",
       "Seasons                        Winter      Winter      Winter      Winter   \n",
       "Holiday                    No Holiday  No Holiday  No Holiday  No Holiday   \n",
       "Functioning Day                   Yes         Yes         Yes         Yes   \n",
       "\n",
       "                                    4  \n",
       "Date                       01/12/2017  \n",
       "Rented Bike Count                  78  \n",
       "Hour                                4  \n",
       "Temperature(°C)                  -6.0  \n",
       "Humidity(%)                        36  \n",
       "Wind speed (m/s)                  2.3  \n",
       "Visibility (10m)                 2000  \n",
       "Dew point temperature(°C)       -18.6  \n",
       "Solar Radiation (MJ/m2)           0.0  \n",
       "Rainfall(mm)                      0.0  \n",
       "Snowfall (cm)                     0.0  \n",
       "Seasons                        Winter  \n",
       "Holiday                    No Holiday  \n",
       "Functioning Day                   Yes  "
      ]
     },
     "execution_count": 13,
     "metadata": {},
     "output_type": "execute_result"
    }
   ],
   "source": [
    "data.head().T"
   ]
  },
  {
   "cell_type": "code",
   "execution_count": 14,
   "id": "ab585257-f164-4dc4-89a5-5cf94a6fb1d1",
   "metadata": {},
   "outputs": [],
   "source": [
    "data['Date'] = pd.to_datetime(data['Date'])"
   ]
  },
  {
   "cell_type": "code",
   "execution_count": 15,
   "id": "73cabf0d-6577-4bbf-a96b-5d77eed83405",
   "metadata": {},
   "outputs": [],
   "source": [
    "data[\"Year\"] = data['Date'].dt.year\n",
    "data[\"Month\"] = data['Date'].dt.month\n",
    "data[\"Week\"] = data['Date'].dt.isocalendar().week\n",
    "data[\"Day\"] = data['Date'].dt.day\n",
    "data[\"Dayofweek\"] = data['Date'].dt.dayofweek\n",
    "data[\"Dayofyear\"] = data['Date'].dt.dayofyear\n",
    "data[\"Is_month_end\"] = data['Date'].dt.is_month_end\n",
    "data[\"Is_month_start\"] = data['Date'].dt.is_month_start\n",
    "data[\"Is_quarter_end\"] = data['Date'].dt.is_quarter_end\n",
    "data[\"Is_quarter_start\"] = data['Date'].dt.is_quarter_start\n",
    "data[\"Is_year_end\"] = data['Date'].dt.is_year_end\n",
    "data[\"Is_year_start\"] = data['Date'].dt.is_year_start\n",
    "data.drop('Date', axis=1, inplace=True)"
   ]
  },
  {
   "cell_type": "code",
   "execution_count": 19,
   "id": "0cc22057-e9c1-48d1-a09a-50f19c893e2b",
   "metadata": {},
   "outputs": [],
   "source": [
    "data = pd.get_dummies(data=data, columns=['Holiday', 'Seasons', 'Functioning Day'])"
   ]
  },
  {
   "cell_type": "code",
   "execution_count": 20,
   "id": "8aeeaa2e-eebc-41f4-86f5-1b145ae95d0a",
   "metadata": {},
   "outputs": [],
   "source": [
    "data.columns = ['rented_bike_count', 'hour', 'temperature', 'humidity', 'wind_speed', 'visibility', \n",
    "                'dew_point_temperature', 'solar_radiation', 'rainfall', 'snowfall', 'year', \n",
    "                'month', 'week', 'day', 'dayofweek', 'dayofyear', 'is_month_end', 'is_month_start',\n",
    "                'is_quarter_end', 'is_quarter_start', 'is_year_end', 'is_year_start',\n",
    "                'seasons_autumn', 'seasons_winter', 'seasons_summer', 'seasons_spring',\n",
    "                'holiday_yes', 'holiday_no', 'functioning_day_no', 'functioning_day_yes']"
   ]
  },
  {
   "cell_type": "code",
   "execution_count": 24,
   "id": "f2d87c42-afb3-4e68-9e70-83f3185511d6",
   "metadata": {},
   "outputs": [],
   "source": [
    "split = 0.30\n",
    "\n",
    "train_path = os.path.join('data', 'processed', 'train.csv')\n",
    "test_path = os.path.join('data', 'processed', 'test.csv')"
   ]
  },
  {
   "cell_type": "code",
   "execution_count": 25,
   "id": "8abd5fe0-0907-4ae5-92da-44da48a67ae4",
   "metadata": {},
   "outputs": [],
   "source": [
    "n_train = int(len(data) - len(data) * split)\n",
    "\n",
    "df_train = data[:n_train].reset_index(drop=True)\n",
    "df_test = data[n_train:].reset_index(drop=True)\n",
    "\n",
    "df_train.to_csv(train_path, index=False)\n",
    "df_test.to_csv(test_path, index=False)"
   ]
  },
  {
   "cell_type": "code",
   "execution_count": 70,
   "id": "16c3b143-d456-48f4-bb6e-42aeaa3344a9",
   "metadata": {},
   "outputs": [
    {
     "name": "stdout",
     "output_type": "stream",
     "text": [
      "\n",
      "To track the changes with git, run:\n",
      "\n",
      "\tgit add data/processed/.gitignore data/processed/train.csv.dvc data/processed/test.csv.dvc\n",
      "2 files pushed\n"
     ]
    }
   ],
   "source": [
    "%%bash\n",
    "\n",
    "dvc add data/processed/train.csv data/processed/test.csv\n",
    "dvc push"
   ]
  },
  {
   "cell_type": "code",
   "execution_count": 26,
   "id": "65ea19cb-7c7c-4715-8852-659331b7e721",
   "metadata": {},
   "outputs": [
    {
     "name": "stdout",
     "output_type": "stream",
     "text": [
      "Writing prepare.py\n"
     ]
    }
   ],
   "source": [
    "%%writefile src/prepare.py\n",
    "\n",
    "import pandas as pd\n",
    "import os, sys\n",
    "\n",
    "split = 0.30\n",
    "\n",
    "raw_data_path = sys.argv[1]\n",
    "train_path = os.path.join('data', 'processed', 'train.csv')\n",
    "test_path = os.path.join('data', 'processed', 'test.csv')\n",
    "\n",
    "# read the data\n",
    "data = pd.read_csv(raw_data_path, encoding='iso-8859-1')\n",
    "\n",
    "# add date vars\n",
    "data['Date'] = pd.to_datetime(data['Date'])\n",
    "data.sort_values(['Date', 'Hour'], inplace=True)\n",
    "data[\"Year\"] = data['Date'].dt.year\n",
    "data[\"Month\"] = data['Date'].dt.month\n",
    "data[\"Week\"] = data['Date'].dt.isocalendar().week\n",
    "data[\"Day\"] = data['Date'].dt.day\n",
    "data[\"Dayofweek\"] = data['Date'].dt.dayofweek\n",
    "data[\"Dayofyear\"] = data['Date'].dt.dayofyear\n",
    "data[\"Is_month_end\"] = data['Date'].dt.is_month_end\n",
    "data[\"Is_month_start\"] = data['Date'].dt.is_month_start\n",
    "data[\"Is_quarter_end\"] = data['Date'].dt.is_quarter_end\n",
    "data[\"Is_quarter_start\"] = data['Date'].dt.is_quarter_start\n",
    "data[\"Is_year_end\"] = data['Date'].dt.is_year_end\n",
    "data[\"Is_year_start\"] = data['Date'].dt.is_year_start\n",
    "data.drop('Date', axis=1, inplace=True)\n",
    "\n",
    "# add dummies\n",
    "data = pd.get_dummies(data=data, columns=['Holiday', 'Seasons', 'Functioning Day'])\n",
    "\n",
    "# Normalize columns\n",
    "data.columns = ['rented_bike_count', 'hour', 'temperature', 'humidity', 'wind_speed', 'visibility', \n",
    "                'dew_point_temperature', 'solar_radiation', 'rainfall', 'snowfall', 'year', \n",
    "                'month', 'week', 'day', 'dayofweek', 'dayofyear', 'is_month_end', 'is_month_start',\n",
    "                'is_quarter_end', 'is_quarter_start', 'is_year_end', 'is_year_start',\n",
    "                'seasons_autumn', 'seasons_winter', 'seasons_summer', 'seasons_spring',\n",
    "                'holiday_yes', 'holiday_no', 'functioning_day_no', 'functioning_day_yes']\n",
    "\n",
    "n_train = int(len(data) - len(data) * split)\n",
    "\n",
    "data[:n_train].reset_index(drop=True).to_csv(train_path, index=False)\n",
    "data[n_train:].reset_index(drop=True).to_csv(test_path, index=False)"
   ]
  },
  {
   "cell_type": "code",
   "execution_count": 27,
   "id": "c9eec41f-3583-4c7f-b2cc-b7a83683070c",
   "metadata": {},
   "outputs": [
    {
     "name": "stdout",
     "output_type": "stream",
     "text": [
      "Writing .gitignore\n"
     ]
    }
   ],
   "source": [
    "%%writefile .gitignore\n",
    "\n",
    ".ipynb_checkpoints\n",
    "new_user_credentials.csv"
   ]
  },
  {
   "cell_type": "code",
   "execution_count": 71,
   "id": "55f2375d-46d9-46fc-b591-1007f32f5668",
   "metadata": {},
   "outputs": [
    {
     "name": "stdout",
     "output_type": "stream",
     "text": [
      "[master da046c3] Preparation stage completed\n",
      " 8 files changed, 428 insertions(+), 9 deletions(-)\n",
      " create mode 100644 data/processed/.gitignore\n",
      " create mode 100644 data/processed/test.csv.dvc\n",
      " create mode 100644 data/processed/train.csv.dvc\n",
      " create mode 100644 dvc.lock\n",
      " create mode 100644 dvc.yaml\n",
      " create mode 100644 metrics/metrics.json\n"
     ]
    },
    {
     "name": "stderr",
     "output_type": "stream",
     "text": [
      "To https://github.com/ramonpzg/bikes_ml.git\n",
      "   5b5ba3f..da046c3  master -> master\n"
     ]
    }
   ],
   "source": [
    "%%bash\n",
    "\n",
    "git add .\n",
    "git commit -m \"Preparation stage completed\"\n",
    "git push"
   ]
  },
  {
   "cell_type": "code",
   "execution_count": null,
   "id": "b9c6b721-0d64-4d43-b664-a8d7bb87f210",
   "metadata": {},
   "outputs": [],
   "source": []
  },
  {
   "cell_type": "markdown",
   "id": "8f2e46cc-1426-450f-8d4f-7b1491c488f5",
   "metadata": {},
   "source": [
    "## Training"
   ]
  },
  {
   "cell_type": "code",
   "execution_count": 29,
   "id": "2fecfe12-f358-48ca-8ccb-1db2c05d2900",
   "metadata": {},
   "outputs": [],
   "source": [
    "from sklearn.ensemble import RandomForestRegressor\n",
    "import pickle"
   ]
  },
  {
   "cell_type": "code",
   "execution_count": 30,
   "id": "2d46855d-c5a0-4f2b-b35f-992581bb4128",
   "metadata": {},
   "outputs": [],
   "source": [
    "X_train = pd.read_csv('data/processed/train.csv')\n",
    "y_train = X_train.pop('rented_bike_count')"
   ]
  },
  {
   "cell_type": "code",
   "execution_count": 31,
   "id": "eb97783c-732c-4f46-b571-13eb015a8934",
   "metadata": {},
   "outputs": [],
   "source": [
    "seed = 42\n",
    "n_est = 100"
   ]
  },
  {
   "cell_type": "code",
   "execution_count": 32,
   "id": "ac3cb0d2-71dc-4377-bcf9-bf7eb820195a",
   "metadata": {},
   "outputs": [
    {
     "data": {
      "text/plain": [
       "RandomForestRegressor(random_state=42)"
      ]
     },
     "execution_count": 32,
     "metadata": {},
     "output_type": "execute_result"
    }
   ],
   "source": [
    "rf = RandomForestRegressor(n_estimators=n_est, random_state=seed)\n",
    "rf.fit(X_train.values, y_train.values)"
   ]
  },
  {
   "cell_type": "code",
   "execution_count": 33,
   "id": "2f1527f8-cc31-44c6-ad83-cc62db880d17",
   "metadata": {},
   "outputs": [],
   "source": [
    "with open('models/rf_model.pkl', \"wb\") as fd:\n",
    "    pickle.dump(rf, fd)"
   ]
  },
  {
   "cell_type": "code",
   "execution_count": 38,
   "id": "ac9d0d13-99b8-4578-8c9a-fa6ecc665d38",
   "metadata": {},
   "outputs": [
    {
     "data": {
      "text/plain": [
       "array([226.38, 211.76, 165.48,  95.93,  80.49,  90.37, 150.53, 476.47,\n",
       "       795.83, 447.04])"
      ]
     },
     "execution_count": 38,
     "metadata": {},
     "output_type": "execute_result"
    }
   ],
   "source": [
    "rf.predict(X_train.values)[:10]"
   ]
  },
  {
   "cell_type": "code",
   "execution_count": 35,
   "id": "dbc8cecf-eddb-4476-af6b-d4544a5a03b2",
   "metadata": {},
   "outputs": [
    {
     "name": "stdout",
     "output_type": "stream",
     "text": [
      "Overwriting src/train.py\n"
     ]
    }
   ],
   "source": [
    "%%writefile src/train.py\n",
    "\n",
    "import os, pickle, sys\n",
    "import numpy as np, pandas as pd\n",
    "from sklearn.ensemble import RandomForestRegressor\n",
    "\n",
    "input_data = sys.argv[1]\n",
    "output = os.path.join('models', 'rf_model.pkl')\n",
    "seed = 42\n",
    "n_est = 100\n",
    "\n",
    "X_train = pd.read_csv(input_data)\n",
    "y_train = X_train.pop('rented_bike_count')\n",
    "\n",
    "rf = RandomForestRegressor(n_estimators=n_est, random_state=seed)\n",
    "rf.fit(X_train.values, y_train.values)\n",
    "\n",
    "with open(output, \"wb\") as fd:\n",
    "    pickle.dump(rf, fd)"
   ]
  },
  {
   "cell_type": "code",
   "execution_count": 40,
   "id": "fa311db9-518d-4b9e-bca8-8284c8e4c9bc",
   "metadata": {},
   "outputs": [
    {
     "name": "stdout",
     "output_type": "stream",
     "text": [
      "\n",
      "To track the changes with git, run:\n",
      "\n",
      "\tgit add models/.gitignore models/rf_model.pkl.dvc\n",
      "1 file pushed\n",
      "[master eb2504f] Training stage completed\n",
      " 4 files changed, 1171 insertions(+), 2826 deletions(-)\n",
      " create mode 100644 models/.gitignore\n",
      " create mode 100644 models/rf_model.pkl.dvc\n",
      " rewrite notebooks/exploration.ipynb (72%)\n",
      " create mode 100644 src/train.py\n"
     ]
    },
    {
     "name": "stderr",
     "output_type": "stream",
     "text": [
      "To https://github.com/ramonpzg/bikes_ml.git\n",
      "   6950930..eb2504f  master -> master\n"
     ]
    }
   ],
   "source": [
    "%%bash\n",
    "\n",
    "dvc add models/rf_model.pkl\n",
    "dvc push"
   ]
  },
  {
   "cell_type": "code",
   "execution_count": null,
   "id": "8c951d0c-b9de-4467-a183-966939d85b84",
   "metadata": {},
   "outputs": [],
   "source": [
    "%%bash\n",
    "\n",
    "git add .\n",
    "git commit -m \"Training stage completed\"\n",
    "git push"
   ]
  },
  {
   "cell_type": "markdown",
   "id": "d61ad215-114d-4e96-8316-8dd389322be9",
   "metadata": {},
   "source": [
    "## Evaluate"
   ]
  },
  {
   "cell_type": "code",
   "execution_count": 63,
   "id": "e0c3b8cb-6561-4a3e-9b14-56222729b7f4",
   "metadata": {},
   "outputs": [],
   "source": [
    "import sklearn.metrics as metrics\n",
    "import numpy as np, json"
   ]
  },
  {
   "cell_type": "code",
   "execution_count": 42,
   "id": "a49d61b1-5a0a-434e-bb9a-59b21d1365e9",
   "metadata": {},
   "outputs": [],
   "source": [
    "with open('models/rf_model.pkl', \"rb\") as fd:\n",
    "    model = pickle.load(fd)"
   ]
  },
  {
   "cell_type": "code",
   "execution_count": 43,
   "id": "7f45a47e-23a4-4cab-9806-7f7eca2eaae1",
   "metadata": {},
   "outputs": [],
   "source": [
    "X_test = pd.read_csv('data/processed/test.csv')\n",
    "y_test = X_test.pop('rented_bike_count')"
   ]
  },
  {
   "cell_type": "code",
   "execution_count": 45,
   "id": "af1bba05-ce47-4b49-a08f-ee51d201957b",
   "metadata": {},
   "outputs": [
    {
     "data": {
      "text/plain": [
       "array([ 678.43,  690.88,  655.57,  721.8 ,  940.68, 1380.16, 2060.02,\n",
       "       1961.72, 1769.  , 1772.99])"
      ]
     },
     "execution_count": 45,
     "metadata": {},
     "output_type": "execute_result"
    }
   ],
   "source": [
    "predictions = model.predict(X_test.values)\n",
    "predictions[:10]"
   ]
  },
  {
   "cell_type": "code",
   "execution_count": 52,
   "id": "299ff603-a8af-49ed-bd83-717c0205a860",
   "metadata": {},
   "outputs": [
    {
     "name": "stdout",
     "output_type": "stream",
     "text": [
      "Mean Absolute Error: 249.12\n",
      "Root Mean Square Error: 373.88\n",
      "R^2: 0.667\n"
     ]
    }
   ],
   "source": [
    "mae = metrics.mean_absolute_error(y_test.values, predictions)\n",
    "rmse = np.sqrt(metrics.mean_squared_error(y_test.values, predictions))\n",
    "r2_score = model.score(X_test.values, y_test.values)\n",
    "\n",
    "print(f\"Mean Absolute Error: {mae:.2f}\")\n",
    "print(f\"Root Mean Square Error: {rmse:.2f}\")\n",
    "print(f\"R^2: {r2_score:.3f}\")"
   ]
  },
  {
   "cell_type": "code",
   "execution_count": 64,
   "id": "31f48481-cb1f-4fa4-ad3d-3cda28abebeb",
   "metadata": {},
   "outputs": [],
   "source": [
    "with open(os.path.join('metrics', 'metrics.json'), \"w\") as fd:\n",
    "    json.dump({\"MAE\": mae, \"RMSE\": rmse, \"R^2\":r2_score}, fd, indent=4)"
   ]
  },
  {
   "cell_type": "code",
   "execution_count": 53,
   "id": "2bca6a9d-6165-4f2a-a96c-28f54c8223d1",
   "metadata": {},
   "outputs": [
    {
     "name": "stdout",
     "output_type": "stream",
     "text": [
      "Writing src/evaluate.py\n"
     ]
    }
   ],
   "source": [
    "%%writefile src/evaluate.py\n",
    "\n",
    "import json, os, pickle, sys, pandas as pd, numpy as np\n",
    "import sklearn.metrics as metrics\n",
    "\n",
    "model_file = sys.argv[1]\n",
    "test_file = os.path.join(sys.argv[2], \"test.csv\")\n",
    "scores_file = os.path.join('metrics', 'metrics.json')\n",
    "\n",
    "with open(model_file, \"rb\") as fd:\n",
    "    model = pickle.load(fd)\n",
    "\n",
    "X_test = pd.read_csv(test_file)\n",
    "y_test = X_test.pop('rented_bike_count')\n",
    "\n",
    "predictions = model.predict(X_test.values)\n",
    "\n",
    "mae = metrics.mean_absolute_error(y_test.values, predictions)\n",
    "rmse = np.sqrt(metrics.mean_squared_error(y_test.values, predictions))\n",
    "r2_score = model.score(X_test.values, y_test.values)\n",
    "\n",
    "with open(scores_file, \"w\") as fd:\n",
    "    json.dump({\"MAE\": mae, \"RMSE\": rmse, \"R^2\":r2_score}, fd, indent=4)"
   ]
  },
  {
   "cell_type": "code",
   "execution_count": 54,
   "id": "88f3ae59-ff31-4134-bdd9-4debef32f69f",
   "metadata": {},
   "outputs": [
    {
     "name": "stdout",
     "output_type": "stream",
     "text": [
      "[master 179bf62] Evaluation stage completed\n",
      " 2 files changed, 201 insertions(+), 6 deletions(-)\n",
      " create mode 100644 src/evaluate.py\n"
     ]
    },
    {
     "name": "stderr",
     "output_type": "stream",
     "text": [
      "To https://github.com/ramonpzg/bikes_ml.git\n",
      "   eb2504f..179bf62  master -> master\n"
     ]
    }
   ],
   "source": [
    "%%bash\n",
    "\n",
    "git add .\n",
    "git commit -m \"Evaluation stage completed\"\n",
    "git push"
   ]
  },
  {
   "cell_type": "markdown",
   "id": "7c040bbb-57ea-43d9-8bd0-46d61e10afac",
   "metadata": {},
   "source": [
    "## Pipelines"
   ]
  },
  {
   "cell_type": "code",
   "execution_count": 72,
   "id": "65036208-10d5-42f8-a3e9-6ce3732fba63",
   "metadata": {},
   "outputs": [],
   "source": [
    "%%bash\n",
    "\n",
    "dvc remove data/raw/SeoulBikeData.csv.dvc \\\n",
    "           data/processed/train.csv.dvc \\\n",
    "           data/processed/test.csv.dvc \\\n",
    "           models/rf_model.pkl.dvc"
   ]
  },
  {
   "cell_type": "code",
   "execution_count": 74,
   "id": "2196e363-b94d-4833-8b6b-4a54ce5a6820",
   "metadata": {},
   "outputs": [
    {
     "name": "stdout",
     "output_type": "stream",
     "text": [
      "Running stage 'get_data':\n",
      "> python src/get_data.py\n",
      "Creating 'dvc.yaml'\n",
      "Adding stage 'get_data' in 'dvc.yaml'\n",
      "Generating lock file 'dvc.lock'\n",
      "Updating lock file 'dvc.lock'\n",
      "\n",
      "To track the changes with git, run:\n",
      "\n",
      "\tgit add data/raw/.gitignore dvc.yaml dvc.lock\n"
     ]
    }
   ],
   "source": [
    "%%bash\n",
    "\n",
    "dvc run -n get_data \\\n",
    "-d src/get_data.py \\\n",
    "-o data/raw/SeoulBikeData.csv \\\n",
    "python src/get_data.py"
   ]
  },
  {
   "cell_type": "code",
   "execution_count": 75,
   "id": "a38c42f4-4305-42ef-bf1d-39c629eb80e5",
   "metadata": {},
   "outputs": [
    {
     "name": "stdout",
     "output_type": "stream",
     "text": [
      "Running stage 'prepare':\n",
      "> python src/prepare.py data/raw/SeoulBikeData.csv\n",
      "Adding stage 'prepare' in 'dvc.yaml'\n",
      "Updating lock file 'dvc.lock'\n",
      "\n",
      "To track the changes with git, run:\n",
      "\n",
      "\tgit add dvc.yaml data/processed/.gitignore dvc.lock\n"
     ]
    }
   ],
   "source": [
    "%%bash\n",
    "\n",
    "dvc run -n prepare \\\n",
    "-d src/prepare.py -d data/raw/SeoulBikeData.csv \\\n",
    "-o data/processed/train.csv -o data/processed/test.csv \\\n",
    "python src/prepare.py data/raw/SeoulBikeData.csv"
   ]
  },
  {
   "cell_type": "code",
   "execution_count": 77,
   "id": "9a568036-8a74-4aa9-a208-59734f8a3277",
   "metadata": {},
   "outputs": [
    {
     "name": "stdout",
     "output_type": "stream",
     "text": [
      "Running stage 'train':\n",
      "> python src/train.py data/processed/train.csv\n",
      "Adding stage 'train' in 'dvc.yaml'\n",
      "Updating lock file 'dvc.lock'\n",
      "\n",
      "To track the changes with git, run:\n",
      "\n",
      "\tgit add dvc.yaml models/.gitignore dvc.lock\n"
     ]
    }
   ],
   "source": [
    "%%bash\n",
    "\n",
    "dvc run -n train \\\n",
    "-d src/train.py -d data/processed/train.csv \\\n",
    "-o models/rf_model.pkl \\\n",
    "python src/train.py data/processed/train.csv"
   ]
  },
  {
   "cell_type": "code",
   "execution_count": 79,
   "id": "3bba7fe3-776e-4d3e-b528-70ca2a0b1103",
   "metadata": {},
   "outputs": [
    {
     "name": "stdout",
     "output_type": "stream",
     "text": [
      "Running stage 'evaluate':\n",
      "> python src/evaluate.py models/rf_model.pkl data/processed\n",
      "Adding stage 'evaluate' in 'dvc.yaml'\n",
      "Updating lock file 'dvc.lock'\n",
      "\n",
      "To track the changes with git, run:\n",
      "\n",
      "\tgit add dvc.lock dvc.yaml\n"
     ]
    }
   ],
   "source": [
    "%%bash\n",
    "\n",
    "dvc run -n evaluate \\\n",
    "-d src/evaluate.py -d models/rf_model.pkl -d data/processed \\\n",
    "-M metrics/metrics.json \\\n",
    "python src/evaluate.py models/rf_model.pkl data/processed"
   ]
  },
  {
   "cell_type": "code",
   "execution_count": 80,
   "id": "8c9f097e-2bc1-4524-a7e7-9bb25dcb0941",
   "metadata": {},
   "outputs": [
    {
     "name": "stdout",
     "output_type": "stream",
     "text": [
      "        +----------+      \n",
      "        | get_data |      \n",
      "        +----------+      \n",
      "              *           \n",
      "              *           \n",
      "              *           \n",
      "         +---------+      \n",
      "         | prepare |      \n",
      "         +---------+      \n",
      "         **        **     \n",
      "       **            *    \n",
      "      *               **  \n",
      "+-------+               * \n",
      "| train |             **  \n",
      "+-------+            *    \n",
      "         **        **     \n",
      "           **    **       \n",
      "             *  *         \n",
      "        +----------+      \n",
      "        | evaluate |      \n",
      "        +----------+      \u001b[0m"
     ]
    }
   ],
   "source": [
    "!dvc dag"
   ]
  },
  {
   "cell_type": "code",
   "execution_count": 84,
   "id": "426eb737-5c0a-4df4-b7f6-de056551f8dd",
   "metadata": {},
   "outputs": [],
   "source": [
    "!rm dvc.lock data/raw/SeoulBikeData.csv data/processed/train.csv data/processed/test.csv"
   ]
  },
  {
   "cell_type": "code",
   "execution_count": 85,
   "id": "f892ec11-56a4-4f4c-8a2f-f575f153c202",
   "metadata": {},
   "outputs": [
    {
     "name": "stdout",
     "output_type": "stream",
     "text": [
      "Stage 'get_data' is cached - skipping run, checking out outputs       core\u001b[39m>\n",
      "Generating lock file 'dvc.lock'                                                 \n",
      "Updating lock file 'dvc.lock'\n",
      "\n",
      "Stage 'prepare' is cached - skipping run, checking out outputs\n",
      "Updating lock file 'dvc.lock'                                                   \n",
      "\n",
      "Stage 'train' is cached - skipping run, checking out outputs\n",
      "Updating lock file 'dvc.lock'                                                   \n",
      "\n",
      "Stage 'evaluate' is cached - skipping run, checking out outputs                 \n",
      "Updating lock file 'dvc.lock'                                                   \n",
      "\n",
      "To track the changes with git, run:\n",
      "\n",
      "\tgit add dvc.lock\n",
      "Use `dvc push` to send your updates to remote storage.\n",
      "\u001b[0m"
     ]
    }
   ],
   "source": [
    "!dvc repro"
   ]
  },
  {
   "cell_type": "code",
   "execution_count": 86,
   "id": "f1c403ec-beef-49ef-a0a9-7500ed0f84f7",
   "metadata": {},
   "outputs": [
    {
     "name": "stdout",
     "output_type": "stream",
     "text": [
      "On branch master\n",
      "Your branch is up to date with 'origin/master'.\n",
      "\n",
      "Changes not staged for commit:\n",
      "  (use \"git add/rm <file>...\" to update what will be committed)\n",
      "  (use \"git restore <file>...\" to discard changes in working directory)\n",
      "\t\u001b[31mdeleted:    data/processed/test.csv.dvc\u001b[m\n",
      "\t\u001b[31mdeleted:    data/processed/train.csv.dvc\u001b[m\n",
      "\t\u001b[31mdeleted:    data/raw/SeoulBikeData.csv.dvc\u001b[m\n",
      "\t\u001b[31mmodified:   dvc.lock\u001b[m\n",
      "\t\u001b[31mmodified:   dvc.yaml\u001b[m\n",
      "\t\u001b[31mmodified:   metrics/metrics.json\u001b[m\n",
      "\t\u001b[31mdeleted:    models/rf_model.pkl.dvc\u001b[m\n",
      "\t\u001b[31mmodified:   notebooks/exploration.ipynb\u001b[m\n",
      "\n",
      "no changes added to commit (use \"git add\" and/or \"git commit -a\")\n"
     ]
    }
   ],
   "source": [
    "!git status"
   ]
  },
  {
   "cell_type": "code",
   "execution_count": 87,
   "id": "21873908-3522-4b92-aaf5-026a9106f9ac",
   "metadata": {},
   "outputs": [
    {
     "name": "stdout",
     "output_type": "stream",
     "text": [
      "[master 352fba5] Pipeline Finished\n",
      " 8 files changed, 237 insertions(+), 129 deletions(-)\n",
      " delete mode 100644 data/processed/test.csv.dvc\n",
      " delete mode 100644 data/processed/train.csv.dvc\n",
      " delete mode 100644 data/raw/SeoulBikeData.csv.dvc\n",
      " delete mode 100644 models/rf_model.pkl.dvc\n"
     ]
    },
    {
     "name": "stderr",
     "output_type": "stream",
     "text": [
      "To https://github.com/ramonpzg/bikes_ml.git\n",
      "   da046c3..352fba5  master -> master\n"
     ]
    }
   ],
   "source": [
    "%%bash\n",
    "\n",
    "git add .\n",
    "git commit -m \"Pipeline Finished\"\n",
    "git push"
   ]
  },
  {
   "cell_type": "code",
   "execution_count": null,
   "id": "605c5f3c-b9d8-4f8d-8329-e7eae918f632",
   "metadata": {},
   "outputs": [],
   "source": []
  },
  {
   "cell_type": "markdown",
   "id": "b6da9cbb-4176-42ed-ba29-8075b543ef1f",
   "metadata": {},
   "source": [
    "## CI/CD Pipelines with CML"
   ]
  },
  {
   "cell_type": "markdown",
   "id": "a4ba7202-3c4d-47f5-acdc-51c009dc710f",
   "metadata": {},
   "source": [
    "\n",
    "\n",
    "Create a `requirements.txt` file"
   ]
  },
  {
   "cell_type": "code",
   "execution_count": 89,
   "id": "2cf9e7b6-6cbf-46ed-a6a6-73def63f0c0e",
   "metadata": {},
   "outputs": [
    {
     "name": "stdout",
     "output_type": "stream",
     "text": [
      "Writing requirements.txt\n"
     ]
    }
   ],
   "source": [
    "%%writefile requirements.txt\n",
    "\n",
    "pandas\n",
    "scikit-learn\n",
    "numpy\n",
    "xgboost\n",
    "lightgbm\n",
    "catboost"
   ]
  },
  {
   "cell_type": "markdown",
   "id": "7e3d3fdc-ce79-461e-a15e-a6620bcec608",
   "metadata": {},
   "source": [
    "First add your secrets to github\n",
    "\n",
    "1. Go to Settings > Secrets and click on **New repository secret**\n",
    "2. On the **Name** box write **AWS_ACCESS_KEY_ID**\n",
    "3. On the **Value** box write the access key you created earlier\n",
    "4. Do the same as above for your **AWS_SECRET_ACCESS_KEY**\n",
    "\n"
   ]
  },
  {
   "cell_type": "code",
   "execution_count": 88,
   "id": "8f7d69fa-4600-413a-bfb6-09623eac4589",
   "metadata": {},
   "outputs": [
    {
     "name": "stdout",
     "output_type": "stream",
     "text": [
      "Writing .github/workflows/cml.yaml\n"
     ]
    }
   ],
   "source": [
    "%%writefile .github/workflows/cml.yaml\n",
    "\n",
    "name: bikes-pipeline-test\n",
    "on: push\n",
    "jobs:\n",
    "  run:\n",
    "    runs-on: [ubuntu-latest]\n",
    "    container: docker://dvcorg/cml:0-dvc2-base1\n",
    "    steps:\n",
    "      - uses: actions/checkout@v2\n",
    "      - name: cml_run \n",
    "        env:\n",
    "          REPO_TOKEN: ${{ secrets.GITHUB_TOKEN }}\n",
    "          AWS_ACCESS_KEY_ID: ${{ secrets.AWS_ACCESS_KEY_ID }}\n",
    "          AWS_SECRET_ACCESS_KEY: ${{ secrets.AWS_SECRET_ACCESS_KEY }}\n",
    "        run: |\n",
    "\n",
    "          pip install -r requirements.txt\n",
    "          \n",
    "          dvc repro\n",
    "          dvc push\n",
    "          git fetch --prune\n",
    "\n",
    "\n",
    "          echo \"# CML Report\" > report.md\n",
    "          dvc metrics diff --show-md master >> report.md\n",
    "          cml-send-comment report.md"
   ]
  },
  {
   "cell_type": "code",
   "execution_count": 90,
   "id": "186762d4-15a5-42bc-b7f1-18bc9a783f6b",
   "metadata": {},
   "outputs": [
    {
     "name": "stdout",
     "output_type": "stream",
     "text": [
      "On branch master\n",
      "Your branch is up to date with 'origin/master'.\n",
      "\n",
      "Changes not staged for commit:\n",
      "  (use \"git add <file>...\" to update what will be committed)\n",
      "  (use \"git restore <file>...\" to discard changes in working directory)\n",
      "\t\u001b[31mmodified:   notebooks/exploration.ipynb\u001b[m\n",
      "\n",
      "Untracked files:\n",
      "  (use \"git add <file>...\" to include in what will be committed)\n",
      "\t\u001b[31m.github/\u001b[m\n",
      "\t\u001b[31mREADME.md\u001b[m\n",
      "\t\u001b[31mrequirements.txt\u001b[m\n",
      "\n",
      "no changes added to commit (use \"git add\" and/or \"git commit -a\")\n"
     ]
    }
   ],
   "source": [
    "!git status"
   ]
  },
  {
   "cell_type": "code",
   "execution_count": 91,
   "id": "ef9556fa-86c0-4f4f-9724-c7b8189c770b",
   "metadata": {},
   "outputs": [
    {
     "name": "stdout",
     "output_type": "stream",
     "text": [
      "[master 22da554] Adding CML CI/CD Pipeline\n",
      " 4 files changed, 189 insertions(+), 16 deletions(-)\n",
      " create mode 100644 .github/workflows/cml.yaml\n",
      " create mode 100644 README.md\n",
      " create mode 100644 requirements.txt\n"
     ]
    },
    {
     "name": "stderr",
     "output_type": "stream",
     "text": [
      "To https://github.com/ramonpzg/bikes_ml.git\n",
      "   352fba5..22da554  master -> master\n"
     ]
    }
   ],
   "source": [
    "%%bash\n",
    "\n",
    "git add .\n",
    "git commit -m \"Adding CML CI/CD Pipeline\"\n",
    "git push"
   ]
  },
  {
   "cell_type": "code",
   "execution_count": null,
   "id": "01822849-78c9-47f7-bc6e-9eb865033ac7",
   "metadata": {},
   "outputs": [],
   "source": []
  },
  {
   "cell_type": "markdown",
   "id": "ee292403-b2cf-4d00-9ebc-c3aae45470ec",
   "metadata": {},
   "source": [
    "# Experiments"
   ]
  },
  {
   "cell_type": "code",
   "execution_count": 92,
   "id": "1ae4a4af-907d-42e1-bc6d-d9c7320acc16",
   "metadata": {},
   "outputs": [
    {
     "name": "stdout",
     "output_type": "stream",
     "text": [
      "Switched to a new branch 'exp1-xgb'\n"
     ]
    }
   ],
   "source": [
    "!git checkout -b \"exp1-xgb\""
   ]
  },
  {
   "cell_type": "code",
   "execution_count": 93,
   "id": "21990be6-1729-4c22-a900-9ed3801730b3",
   "metadata": {},
   "outputs": [
    {
     "name": "stdout",
     "output_type": "stream",
     "text": [
      "Overwriting src/train.py\n"
     ]
    }
   ],
   "source": [
    "%%writefile src/train.py\n",
    "\n",
    "import os, pickle, sys, pandas as pd\n",
    "from xgboost import XGBRFRegressor\n",
    "\n",
    "input_data = sys.argv[1]\n",
    "output = os.path.join('models', 'rf_model.pkl')\n",
    "seed = 42\n",
    "n_est = 100\n",
    "\n",
    "X_train = pd.read_csv(input_data)\n",
    "y_train = X_train.pop('rented_bike_count')\n",
    "\n",
    "rf = XGBRFRegressor(n_estimators=n_est, seed=seed)\n",
    "rf.fit(X_train.values, y_train.values)\n",
    "\n",
    "with open(output, \"wb\") as fd:\n",
    "    pickle.dump(rf, fd)"
   ]
  },
  {
   "cell_type": "code",
   "execution_count": 94,
   "id": "1d51b865-a189-4c20-9ae8-6582c5f757dc",
   "metadata": {},
   "outputs": [
    {
     "name": "stdout",
     "output_type": "stream",
     "text": [
      "[exp1-xgb a5ef829] Testing XGBoost\n",
      " 2 files changed, 122 insertions(+), 20 deletions(-)\n",
      "Branch 'exp1-xgb' set up to track remote branch 'exp1-xgb' from 'origin'.\n"
     ]
    },
    {
     "name": "stderr",
     "output_type": "stream",
     "text": [
      "remote: \n",
      "remote: Create a pull request for 'exp1-xgb' on GitHub by visiting:        \n",
      "remote:      https://github.com/ramonpzg/bikes_ml/pull/new/exp1-xgb        \n",
      "remote: \n",
      "To https://github.com/ramonpzg/bikes_ml.git\n",
      " * [new branch]      exp1-xgb -> exp1-xgb\n",
      "Everything up-to-date\n"
     ]
    }
   ],
   "source": [
    "%%bash\n",
    "\n",
    "git add .\n",
    "git commit -m \"Testing XGBoost\"\n",
    "git push --set-upstream origin exp1-xgb\n",
    "git push"
   ]
  },
  {
   "cell_type": "code",
   "execution_count": 95,
   "id": "dc659270-6237-4a85-aab0-9eb6caf4c3d3",
   "metadata": {},
   "outputs": [
    {
     "name": "stdout",
     "output_type": "stream",
     "text": [
      "Switched to a new branch 'exp2-lgbm'\n"
     ]
    }
   ],
   "source": [
    "!git checkout -b \"exp2-lgbm\""
   ]
  },
  {
   "cell_type": "code",
   "execution_count": 96,
   "id": "3f1acc0c-0dae-48bc-868e-22701b49c481",
   "metadata": {},
   "outputs": [
    {
     "name": "stdout",
     "output_type": "stream",
     "text": [
      "Overwriting src/train.py\n"
     ]
    }
   ],
   "source": [
    "%%writefile src/train.py\n",
    "\n",
    "import os, pickle, sys, pandas as pd\n",
    "from lightgbm import LGBMRegressor\n",
    "\n",
    "input_data = sys.argv[1]\n",
    "output = os.path.join('models', 'rf_model.pkl')\n",
    "seed = 42\n",
    "n_est = 100\n",
    "\n",
    "X_train = pd.read_csv(input_data)\n",
    "y_train = X_train.pop('rented_bike_count')\n",
    "\n",
    "rf = LGBMRegressor(n_estimators=n_est, random_state=seed)\n",
    "rf.fit(X_train.values, y_train.values)\n",
    "\n",
    "with open(output, \"wb\") as fd:\n",
    "    pickle.dump(rf, fd)"
   ]
  },
  {
   "cell_type": "code",
   "execution_count": 97,
   "id": "a4a771ab-4f9a-43d5-ba65-db5675239c17",
   "metadata": {},
   "outputs": [
    {
     "name": "stdout",
     "output_type": "stream",
     "text": [
      "[exp2-lgbm 7b688c6] Testing LightGBM\n",
      " 2 files changed, 80 insertions(+), 12 deletions(-)\n",
      "Branch 'exp2-lgbm' set up to track remote branch 'exp2-lgbm' from 'origin'.\n"
     ]
    },
    {
     "name": "stderr",
     "output_type": "stream",
     "text": [
      "remote: \n",
      "remote: Create a pull request for 'exp2-lgbm' on GitHub by visiting:        \n",
      "remote:      https://github.com/ramonpzg/bikes_ml/pull/new/exp2-lgbm        \n",
      "remote: \n",
      "To https://github.com/ramonpzg/bikes_ml.git\n",
      " * [new branch]      exp2-lgbm -> exp2-lgbm\n",
      "Everything up-to-date\n"
     ]
    }
   ],
   "source": [
    "%%bash\n",
    "\n",
    "git add .\n",
    "git commit -m \"Testing LightGBM\"\n",
    "git push --set-upstream origin exp2-lgbm\n",
    "git push"
   ]
  },
  {
   "cell_type": "code",
   "execution_count": null,
   "id": "648783bd-722e-4e56-b5e7-2db0474fc1b4",
   "metadata": {},
   "outputs": [],
   "source": [
    "!git checkout -b \"exp3-cat"
   ]
  },
  {
   "cell_type": "code",
   "execution_count": null,
   "id": "4ebb6ab7-2e9e-4707-902f-21180b6b69c9",
   "metadata": {},
   "outputs": [],
   "source": [
    "%%writefile src/train.py\n",
    "\n",
    "import os, pickle, sys, pandas as pd\n",
    "from catboost import CatBoostRegressor\n",
    "\n",
    "input_data = sys.argv[1]\n",
    "output = os.path.join('models', 'rf_model.pkl')\n",
    "seed = 42\n",
    "n_est = 100\n",
    "\n",
    "X_train = pd.read_csv(input_data)\n",
    "y_train = X_train.pop('rented_bike_count')\n",
    "\n",
    "rf = CatBoostRegressor(n_estimators=n_est, random_state=seed)\n",
    "rf.fit(X_train.values, y_train.values)\n",
    "\n",
    "with open(output, \"wb\") as fd:\n",
    "    pickle.dump(rf, fd)"
   ]
  },
  {
   "cell_type": "code",
   "execution_count": null,
   "id": "fb5892de-da20-4372-80db-063e905d2868",
   "metadata": {},
   "outputs": [],
   "source": []
  },
  {
   "cell_type": "code",
   "execution_count": null,
   "id": "82be2c35-e2ef-4128-a99e-a139bd30eeda",
   "metadata": {},
   "outputs": [],
   "source": [
    "import xgboost as xgb"
   ]
  },
  {
   "cell_type": "code",
   "execution_count": null,
   "id": "87ab3209-2012-41c2-bd7b-f74f77c481ab",
   "metadata": {},
   "outputs": [],
   "source": [
    "seed = 42\n",
    "n_est = 100\n",
    "min_split = 2\n",
    "max_feats = 0.5"
   ]
  },
  {
   "cell_type": "code",
   "execution_count": null,
   "id": "c1b96681-36bd-4b1c-90a4-26389a97f1ba",
   "metadata": {},
   "outputs": [
    {
     "data": {
      "text/plain": [
       "XGBRFRegressor(base_score=None, booster=None, colsample_bylevel=None,\n",
       "               colsample_bytree=None, gamma=None, gpu_id=None,\n",
       "               importance_type='gain', interaction_constraints=None,\n",
       "               max_delta_step=None, max_depth=None, min_child_weight=None,\n",
       "               missing=nan, monotone_constraints=None, n_estimators=100,\n",
       "               n_jobs=None, num_parallel_tree=None,\n",
       "               objective='reg:squarederror', random_state=None, reg_alpha=None,\n",
       "               scale_pos_weight=None, seed=42, tree_method=None,\n",
       "               validate_parameters=None, verbosity=None)"
      ]
     },
     "execution_count": 82,
     "metadata": {},
     "output_type": "execute_result"
    }
   ],
   "source": [
    "rf = xgb.XGBRFRegressor(n_estimators=n_est, seed=seed)\n",
    "rf"
   ]
  },
  {
   "cell_type": "code",
   "execution_count": null,
   "id": "0c7f51ce-68d8-486d-9361-a56e5415923f",
   "metadata": {},
   "outputs": [
    {
     "data": {
      "text/plain": [
       "XGBRFRegressor(base_score=0.5, booster='gbtree', colsample_bylevel=1,\n",
       "               colsample_bytree=1, gamma=0, gpu_id=-1, importance_type='gain',\n",
       "               interaction_constraints='', max_delta_step=0, max_depth=6,\n",
       "               min_child_weight=1, missing=nan, monotone_constraints='()',\n",
       "               n_estimators=100, n_jobs=16, num_parallel_tree=100,\n",
       "               objective='reg:squarederror', random_state=42, reg_alpha=0,\n",
       "               scale_pos_weight=1, seed=42, tree_method='exact',\n",
       "               validate_parameters=1, verbosity=None)"
      ]
     },
     "execution_count": 84,
     "metadata": {},
     "output_type": "execute_result"
    }
   ],
   "source": [
    "rf.fit(X_train, y_train)"
   ]
  },
  {
   "cell_type": "code",
   "execution_count": null,
   "id": "2b655340-1310-4b1c-ad74-34b0bd660c85",
   "metadata": {},
   "outputs": [],
   "source": [
    "y_preds = rf.predict(X_test)"
   ]
  },
  {
   "cell_type": "code",
   "execution_count": null,
   "id": "86d8003d-8897-4ec8-a4a2-6ff8bd4cd230",
   "metadata": {},
   "outputs": [
    {
     "data": {
      "text/plain": [
       "array([1045.2738 , 1045.2738 , 1048.0958 , ...,  711.62976,  701.56165,\n",
       "        676.33093], dtype=float32)"
      ]
     },
     "execution_count": 86,
     "metadata": {},
     "output_type": "execute_result"
    }
   ],
   "source": [
    "y_preds"
   ]
  },
  {
   "cell_type": "code",
   "execution_count": null,
   "id": "ec6192f0-b91a-48a2-ae60-a898699221b0",
   "metadata": {},
   "outputs": [],
   "source": [
    "import lightgbm as lgb"
   ]
  },
  {
   "cell_type": "code",
   "execution_count": null,
   "id": "35cf83d7-26d8-42af-a102-1750d247a729",
   "metadata": {},
   "outputs": [],
   "source": [
    "rf = lgb.LGBMRegressor(n_estimators=n_est, random_state=seed)"
   ]
  },
  {
   "cell_type": "code",
   "execution_count": null,
   "id": "0e4fa5b1-0ff9-4eb5-92a8-e7e40848a0d1",
   "metadata": {},
   "outputs": [
    {
     "data": {
      "text/plain": [
       "LGBMRegressor(random_state=42)"
      ]
     },
     "execution_count": 89,
     "metadata": {},
     "output_type": "execute_result"
    }
   ],
   "source": [
    "rf.fit(X_train, y_train)"
   ]
  },
  {
   "cell_type": "code",
   "execution_count": null,
   "id": "95757047-9542-4875-814c-7bd71a6da8c4",
   "metadata": {},
   "outputs": [
    {
     "data": {
      "text/plain": [
       "array([876.57737049, 967.03616679, 990.20541939, ..., 870.87345553,\n",
       "       769.93281394, 656.76174214])"
      ]
     },
     "execution_count": 92,
     "metadata": {},
     "output_type": "execute_result"
    }
   ],
   "source": [
    "y_preds = rf.predict(X_test)\n",
    "y_preds"
   ]
  },
  {
   "cell_type": "code",
   "execution_count": null,
   "id": "21b31a96-c8f0-4f58-a38e-8ede7db287b7",
   "metadata": {},
   "outputs": [],
   "source": [
    "from catboost import Pool, CatBoostRegressor"
   ]
  },
  {
   "cell_type": "code",
   "execution_count": null,
   "id": "d1ec2e75-c899-4d2a-a973-c55e22b288c4",
   "metadata": {},
   "outputs": [],
   "source": [
    "rf = CatBoostRegressor(n_estimators=n_est, random_state=seed)"
   ]
  },
  {
   "cell_type": "code",
   "execution_count": null,
   "id": "0dcadc9b-cd8c-4ba1-a3df-5d2a11cc0c56",
   "metadata": {
    "scrolled": true,
    "tags": []
   },
   "outputs": [
    {
     "name": "stdout",
     "output_type": "stream",
     "text": [
      "Learning rate set to 0.310166\n",
      "0:\tlearn: 516.5990841\ttotal: 53.6ms\tremaining: 5.31s\n",
      "1:\tlearn: 431.0087051\ttotal: 55ms\tremaining: 2.69s\n",
      "2:\tlearn: 380.8574304\ttotal: 56.3ms\tremaining: 1.82s\n",
      "3:\tlearn: 337.1410625\ttotal: 58.7ms\tremaining: 1.41s\n",
      "4:\tlearn: 309.5052083\ttotal: 60ms\tremaining: 1.14s\n",
      "5:\tlearn: 292.3307843\ttotal: 61.5ms\tremaining: 964ms\n",
      "6:\tlearn: 279.4433344\ttotal: 63.3ms\tremaining: 841ms\n",
      "7:\tlearn: 267.7624623\ttotal: 64.8ms\tremaining: 745ms\n",
      "8:\tlearn: 262.1230810\ttotal: 66.2ms\tremaining: 669ms\n",
      "9:\tlearn: 255.6619928\ttotal: 67.5ms\tremaining: 607ms\n",
      "10:\tlearn: 251.8538343\ttotal: 68.8ms\tremaining: 557ms\n",
      "11:\tlearn: 247.2489240\ttotal: 70.3ms\tremaining: 515ms\n",
      "12:\tlearn: 241.0110841\ttotal: 71.7ms\tremaining: 480ms\n",
      "13:\tlearn: 235.9082671\ttotal: 73ms\tremaining: 449ms\n",
      "14:\tlearn: 232.2356849\ttotal: 74.4ms\tremaining: 421ms\n",
      "15:\tlearn: 228.2276842\ttotal: 75.7ms\tremaining: 397ms\n",
      "16:\tlearn: 225.7153788\ttotal: 77ms\tremaining: 376ms\n",
      "17:\tlearn: 223.2849188\ttotal: 78.3ms\tremaining: 357ms\n",
      "18:\tlearn: 220.6495942\ttotal: 79.6ms\tremaining: 339ms\n",
      "19:\tlearn: 218.6426190\ttotal: 81.1ms\tremaining: 324ms\n",
      "20:\tlearn: 216.8149148\ttotal: 82.5ms\tremaining: 310ms\n",
      "21:\tlearn: 213.8164117\ttotal: 84ms\tremaining: 298ms\n",
      "22:\tlearn: 210.6693756\ttotal: 85.3ms\tremaining: 286ms\n",
      "23:\tlearn: 209.0167242\ttotal: 86.7ms\tremaining: 275ms\n",
      "24:\tlearn: 206.8504947\ttotal: 88ms\tremaining: 264ms\n",
      "25:\tlearn: 205.4630212\ttotal: 89.2ms\tremaining: 254ms\n",
      "26:\tlearn: 203.6487434\ttotal: 90.5ms\tremaining: 245ms\n",
      "27:\tlearn: 202.6606752\ttotal: 91.6ms\tremaining: 236ms\n",
      "28:\tlearn: 200.6676462\ttotal: 92.9ms\tremaining: 227ms\n",
      "29:\tlearn: 199.3223291\ttotal: 94.2ms\tremaining: 220ms\n",
      "30:\tlearn: 197.3163495\ttotal: 95.5ms\tremaining: 213ms\n",
      "31:\tlearn: 195.5866148\ttotal: 96.8ms\tremaining: 206ms\n",
      "32:\tlearn: 194.1061701\ttotal: 98ms\tremaining: 199ms\n",
      "33:\tlearn: 192.9452969\ttotal: 99.2ms\tremaining: 193ms\n",
      "34:\tlearn: 191.9769688\ttotal: 101ms\tremaining: 187ms\n",
      "35:\tlearn: 190.8229325\ttotal: 102ms\tremaining: 181ms\n",
      "36:\tlearn: 188.9995304\ttotal: 103ms\tremaining: 176ms\n",
      "37:\tlearn: 187.8008863\ttotal: 104ms\tremaining: 170ms\n",
      "38:\tlearn: 186.7730212\ttotal: 106ms\tremaining: 166ms\n",
      "39:\tlearn: 184.8877225\ttotal: 108ms\tremaining: 161ms\n",
      "40:\tlearn: 183.6670961\ttotal: 109ms\tremaining: 157ms\n",
      "41:\tlearn: 182.6874081\ttotal: 110ms\tremaining: 152ms\n",
      "42:\tlearn: 181.9066993\ttotal: 111ms\tremaining: 148ms\n",
      "43:\tlearn: 181.2970594\ttotal: 113ms\tremaining: 143ms\n",
      "44:\tlearn: 177.6155380\ttotal: 114ms\tremaining: 139ms\n",
      "45:\tlearn: 176.3709299\ttotal: 115ms\tremaining: 135ms\n",
      "46:\tlearn: 173.7023128\ttotal: 116ms\tremaining: 131ms\n",
      "47:\tlearn: 172.9295845\ttotal: 117ms\tremaining: 127ms\n",
      "48:\tlearn: 171.8712490\ttotal: 119ms\tremaining: 123ms\n",
      "49:\tlearn: 170.8606531\ttotal: 120ms\tremaining: 120ms\n",
      "50:\tlearn: 169.9032438\ttotal: 121ms\tremaining: 116ms\n",
      "51:\tlearn: 168.9591049\ttotal: 122ms\tremaining: 113ms\n",
      "52:\tlearn: 168.1774078\ttotal: 124ms\tremaining: 110ms\n",
      "53:\tlearn: 167.2103357\ttotal: 125ms\tremaining: 106ms\n",
      "54:\tlearn: 165.9895827\ttotal: 126ms\tremaining: 103ms\n",
      "55:\tlearn: 165.0537532\ttotal: 128ms\tremaining: 100ms\n",
      "56:\tlearn: 163.2152114\ttotal: 129ms\tremaining: 97.2ms\n",
      "57:\tlearn: 161.9048700\ttotal: 130ms\tremaining: 94.1ms\n",
      "58:\tlearn: 161.2335925\ttotal: 131ms\tremaining: 91.2ms\n",
      "59:\tlearn: 160.2530633\ttotal: 132ms\tremaining: 88.3ms\n",
      "60:\tlearn: 159.1203586\ttotal: 134ms\tremaining: 85.4ms\n",
      "61:\tlearn: 158.5486371\ttotal: 135ms\tremaining: 82.7ms\n",
      "62:\tlearn: 157.6079147\ttotal: 136ms\tremaining: 79.9ms\n",
      "63:\tlearn: 156.9566239\ttotal: 137ms\tremaining: 77.3ms\n",
      "64:\tlearn: 156.0298064\ttotal: 139ms\tremaining: 74.6ms\n",
      "65:\tlearn: 155.2963667\ttotal: 140ms\tremaining: 72ms\n",
      "66:\tlearn: 154.8516158\ttotal: 141ms\tremaining: 69.5ms\n",
      "67:\tlearn: 154.1891481\ttotal: 142ms\tremaining: 67.1ms\n",
      "68:\tlearn: 153.4621787\ttotal: 144ms\tremaining: 64.6ms\n",
      "69:\tlearn: 153.0064310\ttotal: 145ms\tremaining: 62.1ms\n",
      "70:\tlearn: 152.2602581\ttotal: 146ms\tremaining: 59.7ms\n",
      "71:\tlearn: 151.5222713\ttotal: 147ms\tremaining: 57.3ms\n",
      "72:\tlearn: 150.8669717\ttotal: 149ms\tremaining: 55ms\n",
      "73:\tlearn: 149.9665124\ttotal: 150ms\tremaining: 52.7ms\n",
      "74:\tlearn: 149.4033420\ttotal: 151ms\tremaining: 50.4ms\n",
      "75:\tlearn: 147.5813177\ttotal: 152ms\tremaining: 48.1ms\n",
      "76:\tlearn: 146.6397086\ttotal: 154ms\tremaining: 45.9ms\n",
      "77:\tlearn: 146.0531216\ttotal: 155ms\tremaining: 43.6ms\n",
      "78:\tlearn: 145.3789621\ttotal: 156ms\tremaining: 41.5ms\n",
      "79:\tlearn: 144.8248522\ttotal: 157ms\tremaining: 39.3ms\n",
      "80:\tlearn: 144.3278908\ttotal: 158ms\tremaining: 37.2ms\n",
      "81:\tlearn: 143.6999429\ttotal: 160ms\tremaining: 35ms\n",
      "82:\tlearn: 143.2629039\ttotal: 161ms\tremaining: 32.9ms\n",
      "83:\tlearn: 142.5180896\ttotal: 162ms\tremaining: 30.9ms\n",
      "84:\tlearn: 141.9668443\ttotal: 163ms\tremaining: 28.8ms\n",
      "85:\tlearn: 141.3573654\ttotal: 165ms\tremaining: 26.8ms\n",
      "86:\tlearn: 140.6639320\ttotal: 166ms\tremaining: 24.8ms\n",
      "87:\tlearn: 139.9857892\ttotal: 167ms\tremaining: 22.8ms\n",
      "88:\tlearn: 139.3250875\ttotal: 168ms\tremaining: 20.8ms\n",
      "89:\tlearn: 138.8995401\ttotal: 169ms\tremaining: 18.8ms\n",
      "90:\tlearn: 138.4316112\ttotal: 171ms\tremaining: 16.9ms\n",
      "91:\tlearn: 137.8542814\ttotal: 172ms\tremaining: 14.9ms\n",
      "92:\tlearn: 137.3140975\ttotal: 173ms\tremaining: 13ms\n",
      "93:\tlearn: 136.1990680\ttotal: 174ms\tremaining: 11.1ms\n",
      "94:\tlearn: 135.5567377\ttotal: 175ms\tremaining: 9.23ms\n",
      "95:\tlearn: 135.0501048\ttotal: 177ms\tremaining: 7.36ms\n",
      "96:\tlearn: 134.5986391\ttotal: 178ms\tremaining: 5.5ms\n",
      "97:\tlearn: 134.0163244\ttotal: 179ms\tremaining: 3.65ms\n",
      "98:\tlearn: 133.6495833\ttotal: 180ms\tremaining: 1.82ms\n",
      "99:\tlearn: 133.2860005\ttotal: 181ms\tremaining: 0us\n"
     ]
    },
    {
     "data": {
      "text/plain": [
       "<catboost.core.CatBoostRegressor at 0x7fc24eaa3160>"
      ]
     },
     "execution_count": 95,
     "metadata": {},
     "output_type": "execute_result"
    }
   ],
   "source": [
    "rf.fit(X_train, y_train)"
   ]
  },
  {
   "cell_type": "code",
   "execution_count": null,
   "id": "01d6019a-2d14-4659-bd0d-a3240f345a78",
   "metadata": {},
   "outputs": [
    {
     "data": {
      "text/plain": [
       "array([219.80232416, 220.48152803, 181.31724048, ..., 901.61696571,\n",
       "       651.00537193, 650.80748737])"
      ]
     },
     "execution_count": 96,
     "metadata": {},
     "output_type": "execute_result"
    }
   ],
   "source": [
    "y_preds = rf.predict(X_train)\n",
    "y_preds"
   ]
  },
  {
   "cell_type": "code",
   "execution_count": null,
   "id": "ae3598e5-6e97-4495-bacf-ebef511a0c0e",
   "metadata": {},
   "outputs": [],
   "source": []
  }
 ],
 "metadata": {
  "kernelspec": {
   "display_name": "Python 3 (ipykernel)",
   "language": "python",
   "name": "python3"
  },
  "language_info": {
   "codemirror_mode": {
    "name": "ipython",
    "version": 3
   },
   "file_extension": ".py",
   "mimetype": "text/x-python",
   "name": "python",
   "nbconvert_exporter": "python",
   "pygments_lexer": "ipython3",
   "version": "3.9.7"
  }
 },
 "nbformat": 4,
 "nbformat_minor": 5
}
