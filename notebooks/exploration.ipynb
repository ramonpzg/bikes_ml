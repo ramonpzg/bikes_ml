{
 "cells": [
  {
   "cell_type": "markdown",
   "id": "182c06ef-fcda-4850-9dc0-4c15af093554",
   "metadata": {},
   "source": [
    "# Exploration"
   ]
  },
  {
   "cell_type": "markdown",
   "id": "a09ed3dc-4b3d-442a-aa25-f68619e7b1a2",
   "metadata": {},
   "source": [
    "## 1. Get The Data"
   ]
  },
  {
   "cell_type": "code",
   "execution_count": 1,
   "id": "f1b63ce0-9d48-40cc-81a2-a65c8b730ebb",
   "metadata": {},
   "outputs": [
    {
     "name": "stdout",
     "output_type": "stream",
     "text": [
      "/home/ramonperez/Tresors/datascience/projects/bikes_ml/notebooks\n"
     ]
    }
   ],
   "source": [
    "!pwd"
   ]
  },
  {
   "cell_type": "code",
   "execution_count": 2,
   "id": "0061face-8fbd-4a62-b477-fa7472520bf2",
   "metadata": {},
   "outputs": [],
   "source": [
    "import urllib.request, os"
   ]
  },
  {
   "cell_type": "code",
   "execution_count": 3,
   "id": "bd30bbd4-b7d4-48b6-9a7c-ad2df8a74286",
   "metadata": {},
   "outputs": [],
   "source": [
    "os.chdir('..')"
   ]
  },
  {
   "cell_type": "code",
   "execution_count": 5,
   "id": "ee0a99be-a9f2-42b4-8d0a-b53486bdbe8b",
   "metadata": {},
   "outputs": [
    {
     "name": "stdout",
     "output_type": "stream",
     "text": [
      "/home/ramonperez/Tresors/datascience/projects/bikes_ml\n"
     ]
    }
   ],
   "source": [
    "!pwd"
   ]
  },
  {
   "cell_type": "code",
   "execution_count": 6,
   "id": "1e017317-2ef4-4756-95aa-9f5c1f8bbe50",
   "metadata": {},
   "outputs": [],
   "source": [
    "url = 'https://archive.ics.uci.edu/ml/machine-learning-databases/00560/SeoulBikeData.csv'\n",
    "path = os.path.join('data', 'raw')\n",
    "filename = 'SeoulBikeData.csv'"
   ]
  },
  {
   "cell_type": "code",
   "execution_count": 7,
   "id": "8122ea37-6f1e-440d-b868-559e486a2875",
   "metadata": {},
   "outputs": [
    {
     "data": {
      "text/plain": [
       "('data/raw/SeoulBikeData.csv', <http.client.HTTPMessage at 0x7f85b42258b0>)"
      ]
     },
     "execution_count": 7,
     "metadata": {},
     "output_type": "execute_result"
    }
   ],
   "source": [
    "urllib.request.urlretrieve(url, os.path.join(path, filename))"
   ]
  },
  {
   "cell_type": "code",
   "execution_count": 8,
   "id": "406e6f49-e524-457c-87f0-123e7ec0aba7",
   "metadata": {},
   "outputs": [
    {
     "name": "stdout",
     "output_type": "stream",
     "text": [
      "Writing src/get_data.py\n"
     ]
    }
   ],
   "source": [
    "%%writefile src/get_data.py\n",
    "\n",
    "import urllib.request, os\n",
    "\n",
    "url = 'https://archive.ics.uci.edu/ml/machine-learning-databases/00560/SeoulBikeData.csv'\n",
    "path = os.path.join('data', 'raw')\n",
    "filename = 'SeoulBikeData.csv'\n",
    "\n",
    "if not os.path.exists(path): os.makedirs(path)\n",
    "        \n",
    "urllib.request.urlretrieve(url, os.path.join(path, filename))"
   ]
  },
  {
   "cell_type": "code",
   "execution_count": null,
   "id": "f5bed750-ec0d-4c4e-84aa-4049f0b66a4b",
   "metadata": {},
   "outputs": [],
   "source": [
    "%%bash\n",
    "\n",
    "git add data/raw/.gitignore data/raw/SeoulBikeData.csv.dvc\n",
    "git commit -m \"Start Tracking Data\"\n",
    "git remote add origin https://github.com/ramonpzg/bikes_ml.git\n",
    "git push -u origin master"
   ]
  },
  {
   "cell_type": "code",
   "execution_count": null,
   "id": "ca17d415-7deb-4af4-a071-09fb199d5f40",
   "metadata": {},
   "outputs": [],
   "source": []
  },
  {
   "cell_type": "code",
   "execution_count": null,
   "id": "9d98d686-de12-4e2d-ac77-9f9743d657cf",
   "metadata": {},
   "outputs": [],
   "source": []
  },
  {
   "cell_type": "markdown",
   "id": "aeb0ce85-6f20-40a9-8b70-f4091c1ecf12",
   "metadata": {},
   "source": [
    "## Preparation"
   ]
  },
  {
   "cell_type": "code",
   "execution_count": null,
   "id": "cededf67-ae55-4c28-8ac5-afa384f6243e",
   "metadata": {},
   "outputs": [],
   "source": [
    "import pandas as pd\n",
    "from sklearn.preprocessing import OneHotEncoder"
   ]
  },
  {
   "cell_type": "code",
   "execution_count": null,
   "id": "6279278b-b619-4a6c-8af5-2c1df8db9841",
   "metadata": {},
   "outputs": [],
   "source": [
    "data = pd.read_csv('data/raw/SeoulBikeData.csv', encoding='iso-8859-1')"
   ]
  },
  {
   "cell_type": "code",
   "execution_count": null,
   "id": "7f2dac01-d700-42f6-bba4-9d15d701ca62",
   "metadata": {},
   "outputs": [],
   "source": [
    "data.head().T"
   ]
  },
  {
   "cell_type": "code",
   "execution_count": null,
   "id": "ab585257-f164-4dc4-89a5-5cf94a6fb1d1",
   "metadata": {},
   "outputs": [],
   "source": [
    "data['Date'] = pd.to_datetime(data['Date'])"
   ]
  },
  {
   "cell_type": "code",
   "execution_count": null,
   "id": "73cabf0d-6577-4bbf-a96b-5d77eed83405",
   "metadata": {},
   "outputs": [],
   "source": [
    "data[\"Year\"] = data['Date'].dt.year\n",
    "data[\"Month\"] = data['Date'].dt.month\n",
    "data[\"Week\"] = data['Date'].dt.isocalendar().week\n",
    "data[\"Day\"] = data['Date'].dt.day\n",
    "data[\"Dayofweek\"] = data['Date'].dt.dayofweek\n",
    "data[\"Dayofyear\"] = data['Date'].dt.dayofyear\n",
    "data[\"Is_month_end\"] = data['Date'].dt.is_month_end\n",
    "data[\"Is_month_start\"] = data['Date'].dt.is_month_start\n",
    "data[\"Is_quarter_end\"] = data['Date'].dt.is_quarter_end\n",
    "data[\"Is_quarter_start\"] = data['Date'].dt.is_quarter_start\n",
    "data[\"Is_year_end\"] = data['Date'].dt.is_year_end\n",
    "data[\"Is_year_start\"] = data['Date'].dt.is_year_start\n",
    "data.drop('Date', axis=1, inplace=True)"
   ]
  },
  {
   "cell_type": "code",
   "execution_count": null,
   "id": "0cc22057-e9c1-48d1-a09a-50f19c893e2b",
   "metadata": {},
   "outputs": [],
   "source": [
    "data = pd.get_dummies(data=data, columns=['Holiday', 'Seasons', 'Functioning Day'])"
   ]
  },
  {
   "cell_type": "code",
   "execution_count": null,
   "id": "8aeeaa2e-eebc-41f4-86f5-1b145ae95d0a",
   "metadata": {},
   "outputs": [],
   "source": [
    "data.columns = ['rented_bike_count', 'hour', 'temperature', 'humidity', 'wind_speed', 'visibility', \n",
    "                'dew_point_temperature', 'solar_radiation', 'rainfall', 'snowfall', 'year', \n",
    "                'month', 'week', 'day', 'dayofweek', 'dayofyear', 'is_month_end', 'is_month_start',\n",
    "                'is_quarter_end', 'is_quarter_start', 'is_year_end', 'is_year_start',\n",
    "                'seasons_autumn', 'seasons_winter', 'seasons_summer', 'seasons_spring',\n",
    "                'holiday_yes', 'holiday_no', 'functioning_day_no', 'functioning_day_yes']"
   ]
  },
  {
   "cell_type": "code",
   "execution_count": null,
   "id": "f2d87c42-afb3-4e68-9e70-83f3185511d6",
   "metadata": {},
   "outputs": [],
   "source": [
    "split = 0.30\n",
    "\n",
    "train_path = os.path.join('data', 'processed', 'train.csv')\n",
    "test_path = os.path.join('data', 'processed', 'test.csv')"
   ]
  },
  {
   "cell_type": "code",
   "execution_count": null,
   "id": "8abd5fe0-0907-4ae5-92da-44da48a67ae4",
   "metadata": {},
   "outputs": [],
   "source": [
    "n_train = int(len(data) - len(data) * split)\n",
    "\n",
    "df_train = data[:n_train].reset_index(drop=True)\n",
    "df_test = data[n_train:].reset_index(drop=True)\n",
    "\n",
    "df_train.to_csv(train_path, index=False)\n",
    "df_test.to_csv(test_path, index=False)"
   ]
  },
  {
   "cell_type": "code",
   "execution_count": null,
   "id": "16c3b143-d456-48f4-bb6e-42aeaa3344a9",
   "metadata": {},
   "outputs": [],
   "source": [
    "%%bash\n",
    "\n",
    "dvc add data/processed/train.csv data/processed/test.csv\n",
    "dvc push"
   ]
  },
  {
   "cell_type": "code",
   "execution_count": null,
   "id": "65ea19cb-7c7c-4715-8852-659331b7e721",
   "metadata": {},
   "outputs": [],
   "source": [
    "%%writefile src/prepare.py\n",
    "\n",
    "import pandas as pd\n",
    "import os, sys\n",
    "\n",
    "split = 0.30\n",
    "\n",
    "raw_data_path = sys.argv[1]\n",
    "train_path = os.path.join('data', 'processed', 'train.csv')\n",
    "test_path = os.path.join('data', 'processed', 'test.csv')\n",
    "\n",
    "# read the data\n",
    "data = pd.read_csv(raw_data_path, encoding='iso-8859-1')\n",
    "\n",
    "# add date vars\n",
    "data['Date'] = pd.to_datetime(data['Date'])\n",
    "data.sort_values(['Date', 'Hour'], inplace=True)\n",
    "data[\"Year\"] = data['Date'].dt.year\n",
    "data[\"Month\"] = data['Date'].dt.month\n",
    "data[\"Week\"] = data['Date'].dt.isocalendar().week\n",
    "data[\"Day\"] = data['Date'].dt.day\n",
    "data[\"Dayofweek\"] = data['Date'].dt.dayofweek\n",
    "data[\"Dayofyear\"] = data['Date'].dt.dayofyear\n",
    "data[\"Is_month_end\"] = data['Date'].dt.is_month_end\n",
    "data[\"Is_month_start\"] = data['Date'].dt.is_month_start\n",
    "data[\"Is_quarter_end\"] = data['Date'].dt.is_quarter_end\n",
    "data[\"Is_quarter_start\"] = data['Date'].dt.is_quarter_start\n",
    "data[\"Is_year_end\"] = data['Date'].dt.is_year_end\n",
    "data[\"Is_year_start\"] = data['Date'].dt.is_year_start\n",
    "data.drop('Date', axis=1, inplace=True)\n",
    "\n",
    "# add dummies\n",
    "data = pd.get_dummies(data=data, columns=['Holiday', 'Seasons', 'Functioning Day'])\n",
    "\n",
    "# Normalize columns\n",
    "data.columns = ['rented_bike_count', 'hour', 'temperature', 'humidity', 'wind_speed', 'visibility', \n",
    "                'dew_point_temperature', 'solar_radiation', 'rainfall', 'snowfall', 'year', \n",
    "                'month', 'week', 'day', 'dayofweek', 'dayofyear', 'is_month_end', 'is_month_start',\n",
    "                'is_quarter_end', 'is_quarter_start', 'is_year_end', 'is_year_start',\n",
    "                'seasons_autumn', 'seasons_winter', 'seasons_summer', 'seasons_spring',\n",
    "                'holiday_yes', 'holiday_no', 'functioning_day_no', 'functioning_day_yes']\n",
    "\n",
    "n_train = int(len(data) - len(data) * split)\n",
    "\n",
    "data[:n_train].reset_index(drop=True).to_csv(train_path, index=False)\n",
    "data[n_train:].reset_index(drop=True).to_csv(test_path, index=False)"
   ]
  },
  {
   "cell_type": "code",
   "execution_count": null,
   "id": "c9eec41f-3583-4c7f-b2cc-b7a83683070c",
   "metadata": {},
   "outputs": [],
   "source": [
    "%%writefile .gitignore\n",
    "\n",
    ".ipynb_checkpoints\n",
    "new_user_credentials.csv"
   ]
  },
  {
   "cell_type": "code",
   "execution_count": null,
   "id": "55f2375d-46d9-46fc-b591-1007f32f5668",
   "metadata": {},
   "outputs": [],
   "source": [
    "%%bash\n",
    "\n",
    "git add .\n",
    "git commit -m \"Preparation stage completed\"\n",
    "git push"
   ]
  },
  {
   "cell_type": "code",
   "execution_count": null,
   "id": "b9c6b721-0d64-4d43-b664-a8d7bb87f210",
   "metadata": {},
   "outputs": [],
   "source": []
  },
  {
   "cell_type": "markdown",
   "id": "8f2e46cc-1426-450f-8d4f-7b1491c488f5",
   "metadata": {},
   "source": [
    "## Training"
   ]
  },
  {
   "cell_type": "code",
   "execution_count": null,
   "id": "2fecfe12-f358-48ca-8ccb-1db2c05d2900",
   "metadata": {},
   "outputs": [],
   "source": [
    "from sklearn.ensemble import RandomForestRegressor\n",
    "import pickle"
   ]
  },
  {
   "cell_type": "code",
   "execution_count": null,
   "id": "2d46855d-c5a0-4f2b-b35f-992581bb4128",
   "metadata": {},
   "outputs": [],
   "source": [
    "X_train = pd.read_csv('data/processed/train.csv')\n",
    "y_train = X_train.pop('rented_bike_count')"
   ]
  },
  {
   "cell_type": "code",
   "execution_count": null,
   "id": "eb97783c-732c-4f46-b571-13eb015a8934",
   "metadata": {},
   "outputs": [],
   "source": [
    "seed = 42\n",
    "n_est = 100"
   ]
  },
  {
   "cell_type": "code",
   "execution_count": null,
   "id": "ac3cb0d2-71dc-4377-bcf9-bf7eb820195a",
   "metadata": {},
   "outputs": [],
   "source": [
    "rf = RandomForestRegressor(n_estimators=n_est, random_state=seed)\n",
    "rf.fit(X_train.values, y_train.values)"
   ]
  },
  {
   "cell_type": "code",
   "execution_count": null,
   "id": "2f1527f8-cc31-44c6-ad83-cc62db880d17",
   "metadata": {},
   "outputs": [],
   "source": [
    "with open('models/rf_model.pkl', \"wb\") as fd:\n",
    "    pickle.dump(rf, fd)"
   ]
  },
  {
   "cell_type": "code",
   "execution_count": null,
   "id": "ac9d0d13-99b8-4578-8c9a-fa6ecc665d38",
   "metadata": {},
   "outputs": [],
   "source": [
    "rf.predict(X_train.values)[:10]"
   ]
  },
  {
   "cell_type": "code",
   "execution_count": null,
   "id": "dbc8cecf-eddb-4476-af6b-d4544a5a03b2",
   "metadata": {},
   "outputs": [],
   "source": [
    "%%writefile src/train.py\n",
    "\n",
    "import os, pickle, sys\n",
    "import numpy as np, pandas as pd\n",
    "from sklearn.ensemble import RandomForestRegressor\n",
    "\n",
    "input_data = sys.argv[1]\n",
    "output = os.path.join('models', 'rf_model.pkl')\n",
    "seed = 42\n",
    "n_est = 100\n",
    "\n",
    "X_train = pd.read_csv(input_data)\n",
    "y_train = X_train.pop('rented_bike_count')\n",
    "\n",
    "rf = RandomForestRegressor(n_estimators=n_est, random_state=seed)\n",
    "rf.fit(X_train.values, y_train.values)\n",
    "\n",
    "with open(output, \"wb\") as fd:\n",
    "    pickle.dump(rf, fd)"
   ]
  },
  {
   "cell_type": "code",
   "execution_count": null,
   "id": "fa311db9-518d-4b9e-bca8-8284c8e4c9bc",
   "metadata": {},
   "outputs": [],
   "source": [
    "%%bash\n",
    "\n",
    "dvc add models/rf_model.pkl\n",
    "dvc push"
   ]
  },
  {
   "cell_type": "code",
   "execution_count": null,
   "id": "8c951d0c-b9de-4467-a183-966939d85b84",
   "metadata": {},
   "outputs": [],
   "source": [
    "%%bash\n",
    "\n",
    "git add .\n",
    "git commit -m \"Training stage completed\"\n",
    "git push"
   ]
  },
  {
   "cell_type": "markdown",
   "id": "d61ad215-114d-4e96-8316-8dd389322be9",
   "metadata": {},
   "source": [
    "## Evaluate"
   ]
  },
  {
   "cell_type": "code",
   "execution_count": null,
   "id": "e0c3b8cb-6561-4a3e-9b14-56222729b7f4",
   "metadata": {},
   "outputs": [],
   "source": [
    "import sklearn.metrics as metrics\n",
    "import numpy as np, json"
   ]
  },
  {
   "cell_type": "code",
   "execution_count": null,
   "id": "a49d61b1-5a0a-434e-bb9a-59b21d1365e9",
   "metadata": {},
   "outputs": [],
   "source": [
    "with open('models/rf_model.pkl', \"rb\") as fd:\n",
    "    model = pickle.load(fd)"
   ]
  },
  {
   "cell_type": "code",
   "execution_count": null,
   "id": "7f45a47e-23a4-4cab-9806-7f7eca2eaae1",
   "metadata": {},
   "outputs": [],
   "source": [
    "X_test = pd.read_csv('data/processed/test.csv')\n",
    "y_test = X_test.pop('rented_bike_count')"
   ]
  },
  {
   "cell_type": "code",
   "execution_count": null,
   "id": "af1bba05-ce47-4b49-a08f-ee51d201957b",
   "metadata": {},
   "outputs": [],
   "source": [
    "predictions = model.predict(X_test.values)\n",
    "predictions[:10]"
   ]
  },
  {
   "cell_type": "code",
   "execution_count": null,
   "id": "299ff603-a8af-49ed-bd83-717c0205a860",
   "metadata": {},
   "outputs": [],
   "source": [
    "mae = metrics.mean_absolute_error(y_test.values, predictions)\n",
    "rmse = np.sqrt(metrics.mean_squared_error(y_test.values, predictions))\n",
    "r2_score = model.score(X_test.values, y_test.values)\n",
    "\n",
    "print(f\"Mean Absolute Error: {mae:.2f}\")\n",
    "print(f\"Root Mean Square Error: {rmse:.2f}\")\n",
    "print(f\"R^2: {r2_score:.3f}\")"
   ]
  },
  {
   "cell_type": "code",
   "execution_count": null,
   "id": "31f48481-cb1f-4fa4-ad3d-3cda28abebeb",
   "metadata": {},
   "outputs": [],
   "source": [
    "with open(os.path.join('metrics', 'metrics.json'), \"w\") as fd:\n",
    "    json.dump({\"MAE\": mae, \"RMSE\": rmse, \"R^2\":r2_score}, fd, indent=4)"
   ]
  },
  {
   "cell_type": "code",
   "execution_count": null,
   "id": "2bca6a9d-6165-4f2a-a96c-28f54c8223d1",
   "metadata": {},
   "outputs": [],
   "source": [
    "%%writefile src/evaluate.py\n",
    "\n",
    "import json, os, pickle, sys, pandas as pd, numpy as np\n",
    "import sklearn.metrics as metrics\n",
    "\n",
    "model_file = sys.argv[1]\n",
    "test_file = os.path.join(sys.argv[2], \"test.csv\")\n",
    "scores_file = os.path.join('metrics', 'metrics.json')\n",
    "\n",
    "with open(model_file, \"rb\") as fd:\n",
    "    model = pickle.load(fd)\n",
    "\n",
    "X_test = pd.read_csv(test_file)\n",
    "y_test = X_test.pop('rented_bike_count')\n",
    "\n",
    "predictions = model.predict(X_test.values)\n",
    "\n",
    "mae = metrics.mean_absolute_error(y_test.values, predictions)\n",
    "rmse = np.sqrt(metrics.mean_squared_error(y_test.values, predictions))\n",
    "r2_score = model.score(X_test.values, y_test.values)\n",
    "\n",
    "with open(scores_file, \"w\") as fd:\n",
    "    json.dump({\"MAE\": mae, \"RMSE\": rmse, \"R^2\":r2_score}, fd, indent=4)"
   ]
  },
  {
   "cell_type": "code",
   "execution_count": null,
   "id": "88f3ae59-ff31-4134-bdd9-4debef32f69f",
   "metadata": {},
   "outputs": [],
   "source": [
    "%%bash\n",
    "\n",
    "git add .\n",
    "git commit -m \"Evaluation stage completed\"\n",
    "git push"
   ]
  },
  {
   "cell_type": "markdown",
   "id": "7c040bbb-57ea-43d9-8bd0-46d61e10afac",
   "metadata": {},
   "source": [
    "## Pipelines"
   ]
  },
  {
   "cell_type": "code",
   "execution_count": null,
   "id": "65036208-10d5-42f8-a3e9-6ce3732fba63",
   "metadata": {},
   "outputs": [],
   "source": [
    "%%bash\n",
    "\n",
    "dvc remove data/raw/SeoulBikeData.csv.dvc \\\n",
    "           data/processed/train.csv.dvc \\\n",
    "           data/processed/test.csv.dvc \\\n",
    "           models/rf_model.pkl.dvc"
   ]
  },
  {
   "cell_type": "code",
   "execution_count": null,
   "id": "2196e363-b94d-4833-8b6b-4a54ce5a6820",
   "metadata": {},
   "outputs": [],
   "source": [
    "%%bash\n",
    "\n",
    "dvc run -n get_data \\\n",
    "-d src/get_data.py \\\n",
    "-o data/raw/SeoulBikeData.csv \\\n",
    "python src/get_data.py"
   ]
  },
  {
   "cell_type": "code",
   "execution_count": null,
   "id": "a38c42f4-4305-42ef-bf1d-39c629eb80e5",
   "metadata": {},
   "outputs": [],
   "source": [
    "%%bash\n",
    "\n",
    "dvc run -n prepare \\\n",
    "-d src/prepare.py -d data/raw/SeoulBikeData.csv \\\n",
    "-o data/processed/train.csv -o data/processed/test.csv \\\n",
    "python src/prepare.py data/raw/SeoulBikeData.csv"
   ]
  },
  {
   "cell_type": "code",
   "execution_count": null,
   "id": "9a568036-8a74-4aa9-a208-59734f8a3277",
   "metadata": {},
   "outputs": [],
   "source": [
    "%%bash\n",
    "\n",
    "dvc run -n train \\\n",
    "-d src/train.py -d data/processed/train.csv \\\n",
    "-o models/rf_model.pkl \\\n",
    "python src/train.py data/processed/train.csv"
   ]
  },
  {
   "cell_type": "code",
   "execution_count": null,
   "id": "3bba7fe3-776e-4d3e-b528-70ca2a0b1103",
   "metadata": {},
   "outputs": [],
   "source": [
    "%%bash\n",
    "\n",
    "dvc run -n evaluate \\\n",
    "-d src/evaluate.py -d models/rf_model.pkl -d data/processed \\\n",
    "-M metrics/metrics.json \\\n",
    "python src/evaluate.py models/rf_model.pkl data/processed"
   ]
  },
  {
   "cell_type": "code",
   "execution_count": null,
   "id": "8c9f097e-2bc1-4524-a7e7-9bb25dcb0941",
   "metadata": {},
   "outputs": [],
   "source": [
    "!dvc dag"
   ]
  },
  {
   "cell_type": "code",
   "execution_count": null,
   "id": "426eb737-5c0a-4df4-b7f6-de056551f8dd",
   "metadata": {},
   "outputs": [],
   "source": [
    "!rm dvc.lock data/raw/SeoulBikeData.csv data/processed/train.csv data/processed/test.csv"
   ]
  },
  {
   "cell_type": "code",
   "execution_count": null,
   "id": "f892ec11-56a4-4f4c-8a2f-f575f153c202",
   "metadata": {},
   "outputs": [],
   "source": [
    "!dvc repro"
   ]
  },
  {
   "cell_type": "code",
   "execution_count": null,
   "id": "f1c403ec-beef-49ef-a0a9-7500ed0f84f7",
   "metadata": {},
   "outputs": [],
   "source": [
    "!git status"
   ]
  },
  {
   "cell_type": "code",
   "execution_count": null,
   "id": "21873908-3522-4b92-aaf5-026a9106f9ac",
   "metadata": {},
   "outputs": [],
   "source": [
    "%%bash\n",
    "\n",
    "git add .\n",
    "git commit -m \"Pipeline Finished\"\n",
    "git push"
   ]
  },
  {
   "cell_type": "code",
   "execution_count": null,
   "id": "605c5f3c-b9d8-4f8d-8329-e7eae918f632",
   "metadata": {},
   "outputs": [],
   "source": []
  },
  {
   "cell_type": "markdown",
   "id": "b6da9cbb-4176-42ed-ba29-8075b543ef1f",
   "metadata": {},
   "source": [
    "## CI/CD Pipelines with CML"
   ]
  },
  {
   "cell_type": "markdown",
   "id": "a4ba7202-3c4d-47f5-acdc-51c009dc710f",
   "metadata": {},
   "source": [
    "\n",
    "\n",
    "Create a `requirements.txt` file"
   ]
  },
  {
   "cell_type": "code",
   "execution_count": null,
   "id": "2cf9e7b6-6cbf-46ed-a6a6-73def63f0c0e",
   "metadata": {},
   "outputs": [],
   "source": [
    "%%writefile requirements.txt\n",
    "\n",
    "pandas\n",
    "scikit-learn\n",
    "numpy\n",
    "xgboost\n",
    "lightgbm\n",
    "catboost"
   ]
  },
  {
   "cell_type": "markdown",
   "id": "7e3d3fdc-ce79-461e-a15e-a6620bcec608",
   "metadata": {},
   "source": [
    "First add your secrets to github\n",
    "\n",
    "1. Go to Settings > Secrets and click on **New repository secret**\n",
    "2. On the **Name** box write **AWS_ACCESS_KEY_ID**\n",
    "3. On the **Value** box write the access key you created earlier\n",
    "4. Do the same as above for your **AWS_SECRET_ACCESS_KEY**\n",
    "\n"
   ]
  },
  {
   "cell_type": "code",
   "execution_count": null,
   "id": "8f7d69fa-4600-413a-bfb6-09623eac4589",
   "metadata": {},
   "outputs": [],
   "source": [
    "%%writefile .github/workflows/cml.yaml\n",
    "\n",
    "name: bikes-pipeline-test\n",
    "on: push\n",
    "jobs:\n",
    "  run:\n",
    "    runs-on: [ubuntu-latest]\n",
    "    container: docker://dvcorg/cml:0-dvc2-base1\n",
    "    steps:\n",
    "      - uses: actions/checkout@v2\n",
    "      - name: cml_run \n",
    "        env:\n",
    "          REPO_TOKEN: ${{ secrets.GITHUB_TOKEN }}\n",
    "          AWS_ACCESS_KEY_ID: ${{ secrets.AWS_ACCESS_KEY_ID }}\n",
    "          AWS_SECRET_ACCESS_KEY: ${{ secrets.AWS_SECRET_ACCESS_KEY }}\n",
    "        run: |\n",
    "\n",
    "          pip install -r requirements.txt\n",
    "          \n",
    "          dvc repro\n",
    "          dvc push\n",
    "          git fetch --prune\n",
    "\n",
    "\n",
    "          echo \"# CML Report\" > report.md\n",
    "          dvc metrics diff --show-md master >> report.md\n",
    "          cml-send-comment report.md"
   ]
  },
  {
   "cell_type": "code",
   "execution_count": null,
   "id": "186762d4-15a5-42bc-b7f1-18bc9a783f6b",
   "metadata": {},
   "outputs": [],
   "source": [
    "!git status"
   ]
  },
  {
   "cell_type": "code",
   "execution_count": null,
   "id": "ef9556fa-86c0-4f4f-9724-c7b8189c770b",
   "metadata": {},
   "outputs": [],
   "source": [
    "%%bash\n",
    "\n",
    "git add .\n",
    "git commit -m \"Adding CML CI/CD Pipeline\"\n",
    "git push"
   ]
  },
  {
   "cell_type": "code",
   "execution_count": null,
   "id": "01822849-78c9-47f7-bc6e-9eb865033ac7",
   "metadata": {},
   "outputs": [],
   "source": []
  },
  {
   "cell_type": "markdown",
   "id": "ee292403-b2cf-4d00-9ebc-c3aae45470ec",
   "metadata": {},
   "source": [
    "# Experiments"
   ]
  },
  {
   "cell_type": "code",
   "execution_count": null,
   "id": "1ae4a4af-907d-42e1-bc6d-d9c7320acc16",
   "metadata": {},
   "outputs": [],
   "source": [
    "!git checkout -b \"exp1-xgb\""
   ]
  },
  {
   "cell_type": "code",
   "execution_count": null,
   "id": "21990be6-1729-4c22-a900-9ed3801730b3",
   "metadata": {},
   "outputs": [],
   "source": [
    "%%writefile src/train.py\n",
    "\n",
    "import os, pickle, sys, pandas as pd\n",
    "from xgboost import XGBRFRegressor\n",
    "\n",
    "input_data = sys.argv[1]\n",
    "output = os.path.join('models', 'rf_model.pkl')\n",
    "seed = 42\n",
    "n_est = 100\n",
    "\n",
    "X_train = pd.read_csv(input_data)\n",
    "y_train = X_train.pop('rented_bike_count')\n",
    "\n",
    "rf = XGBRFRegressor(n_estimators=n_est, seed=seed)\n",
    "rf.fit(X_train.values, y_train.values)\n",
    "\n",
    "with open(output, \"wb\") as fd:\n",
    "    pickle.dump(rf, fd)"
   ]
  },
  {
   "cell_type": "code",
   "execution_count": null,
   "id": "1d51b865-a189-4c20-9ae8-6582c5f757dc",
   "metadata": {},
   "outputs": [],
   "source": [
    "%%bash\n",
    "\n",
    "git add .\n",
    "git commit -m \"Testing XGBoost\"\n",
    "git push --set-upstream origin exp1-xgb\n",
    "git push"
   ]
  },
  {
   "cell_type": "code",
   "execution_count": null,
   "id": "dc659270-6237-4a85-aab0-9eb6caf4c3d3",
   "metadata": {},
   "outputs": [],
   "source": [
    "!git checkout -b \"exp2-lgbm\""
   ]
  },
  {
   "cell_type": "code",
   "execution_count": null,
   "id": "3f1acc0c-0dae-48bc-868e-22701b49c481",
   "metadata": {},
   "outputs": [],
   "source": [
    "%%writefile src/train.py\n",
    "\n",
    "import os, pickle, sys, pandas as pd\n",
    "from lightgbm import LGBMRegressor\n",
    "\n",
    "input_data = sys.argv[1]\n",
    "output = os.path.join('models', 'rf_model.pkl')\n",
    "seed = 42\n",
    "n_est = 100\n",
    "\n",
    "X_train = pd.read_csv(input_data)\n",
    "y_train = X_train.pop('rented_bike_count')\n",
    "\n",
    "rf = LGBMRegressor(n_estimators=n_est, random_state=seed)\n",
    "rf.fit(X_train.values, y_train.values)\n",
    "\n",
    "with open(output, \"wb\") as fd:\n",
    "    pickle.dump(rf, fd)"
   ]
  },
  {
   "cell_type": "code",
   "execution_count": null,
   "id": "a4a771ab-4f9a-43d5-ba65-db5675239c17",
   "metadata": {},
   "outputs": [],
   "source": [
    "%%bash\n",
    "\n",
    "git add .\n",
    "git commit -m \"Testing LightGBM\"\n",
    "git push --set-upstream origin exp2-lgbm\n",
    "git push"
   ]
  },
  {
   "cell_type": "code",
   "execution_count": null,
   "id": "648783bd-722e-4e56-b5e7-2db0474fc1b4",
   "metadata": {},
   "outputs": [],
   "source": [
    "!git checkout -b \"exp3-cat\""
   ]
  },
  {
   "cell_type": "code",
   "execution_count": null,
   "id": "4ebb6ab7-2e9e-4707-902f-21180b6b69c9",
   "metadata": {},
   "outputs": [],
   "source": [
    "%%writefile src/train.py\n",
    "\n",
    "import os, pickle, sys, pandas as pd\n",
    "from catboost import CatBoostRegressor\n",
    "\n",
    "input_data = sys.argv[1]\n",
    "output = os.path.join('models', 'rf_model.pkl')\n",
    "seed = 42\n",
    "n_est = 100\n",
    "\n",
    "X_train = pd.read_csv(input_data)\n",
    "y_train = X_train.pop('rented_bike_count')\n",
    "\n",
    "rf = CatBoostRegressor(n_estimators=n_est, random_state=seed)\n",
    "rf.fit(X_train.values, y_train.values)\n",
    "\n",
    "with open(output, \"wb\") as fd:\n",
    "    pickle.dump(rf, fd)"
   ]
  },
  {
   "cell_type": "code",
   "execution_count": null,
   "id": "fb5892de-da20-4372-80db-063e905d2868",
   "metadata": {},
   "outputs": [],
   "source": [
    "%%bash\n",
    "\n",
    "git add .\n",
    "git commit -m \"Testing CatBoost\"\n",
    "git push --set-upstream origin exp3-cat\n",
    "git push"
   ]
  },
  {
   "cell_type": "code",
   "execution_count": null,
   "id": "df098d64-b169-41ce-a1c8-00422f4473e7",
   "metadata": {},
   "outputs": [],
   "source": [
    "data.year.min(), data.year.max()"
   ]
  },
  {
   "cell_type": "code",
   "execution_count": null,
   "id": "a6401eac-5316-408b-a7ae-142f2f936e6e",
   "metadata": {},
   "outputs": [],
   "source": []
  }
 ],
 "metadata": {
  "kernelspec": {
   "display_name": "Python 3 (ipykernel)",
   "language": "python",
   "name": "python3"
  },
  "language_info": {
   "codemirror_mode": {
    "name": "ipython",
    "version": 3
   },
   "file_extension": ".py",
   "mimetype": "text/x-python",
   "name": "python",
   "nbconvert_exporter": "python",
   "pygments_lexer": "ipython3",
   "version": "3.9.7"
  }
 },
 "nbformat": 4,
 "nbformat_minor": 5
}
